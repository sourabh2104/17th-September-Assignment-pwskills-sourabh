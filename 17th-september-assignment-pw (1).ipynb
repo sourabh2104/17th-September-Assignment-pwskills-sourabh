{
 "cells": [
  {
   "cell_type": "code",
   "execution_count": 1,
   "id": "0d4df26e-f503-48fe-b5a0-abd503e1de47",
   "metadata": {},
   "outputs": [],
   "source": [
    "# FOR LOOP-->>"
   ]
  },
  {
   "cell_type": "code",
   "execution_count": 6,
   "id": "016982e6-d525-4586-b6f3-eadd378d0a2a",
   "metadata": {},
   "outputs": [
    {
     "name": "stdout",
     "output_type": "stream",
     "text": [
      "1\n",
      "2\n",
      "3\n",
      "4\n",
      "5\n",
      "6\n",
      "7\n",
      "8\n",
      "9\n",
      "10\n"
     ]
    }
   ],
   "source": [
    "# 1. Write a Python program to print numbers from 1 to 10 using a for loop.\n",
    "\n",
    "\n",
    "for i in range(1,11):\n",
    "    print(i)\n",
    "    \n",
    "    \n",
    "# EXPLANATION:\n",
    "  \n",
    "# This program uses a for loop with the range() function to iterate from 1 to 10 (inclusive) and prints each number.\n",
    "\n"
   ]
  },
  {
   "cell_type": "code",
   "execution_count": 4,
   "id": "5f8bc586-f21e-4c32-a1ac-093aac8b4e06",
   "metadata": {},
   "outputs": [
    {
     "data": {
      "text/plain": [
       "' A for loop in Python is used for iterating over a sequence (such as a list or range) and has a predetermined number of iterations,\\n    while a while loop is used for executing a block of code repeatedly as long as a specified condition is true, with an indefinite number of iterations.'"
      ]
     },
     "execution_count": 4,
     "metadata": {},
     "output_type": "execute_result"
    }
   ],
   "source": [
    "# 2. Explain the difference between a for loop and a while loop in Python.\n",
    "\n",
    "\"\"\" A for loop in Python is used for iterating over a sequence (such as a list or range) and has a predetermined number of iterations,\n",
    "    while a while loop is used for executing a block of code repeatedly as long as a specified condition is true, with an indefinite number of iterations.\"\"\""
   ]
  },
  {
   "cell_type": "code",
   "execution_count": 11,
   "id": "2b36e54f-b7ac-4c1e-afc3-ed925d216ac2",
   "metadata": {},
   "outputs": [
    {
     "name": "stdout",
     "output_type": "stream",
     "text": [
      "The sum of numbers from 1 to 100 is: 5050\n"
     ]
    }
   ],
   "source": [
    "# 3. Write a Python program to calculate the sum of all numbers from 1 to 100 using a for loop.\n",
    "\n",
    "sum = 0\n",
    "\n",
    "for i in range(1,101):\n",
    "    sum +=i\n",
    "print(\"The sum of numbers from 1 to 100 is:\",sum)"
   ]
  },
  {
   "cell_type": "markdown",
   "id": "19a41278-7c56-4662-88cc-6c4874f5af8f",
   "metadata": {},
   "source": [
    "Explanation:\n",
    "    This program initializes a sum variable to zero and uses a       for loop to add each number from 1 to 100 to the sum."
   ]
  },
  {
   "cell_type": "code",
   "execution_count": 13,
   "id": "d66af5d0-65fb-4a86-ad9a-b95225d6bb85",
   "metadata": {},
   "outputs": [
    {
     "name": "stdout",
     "output_type": "stream",
     "text": [
      "1\n",
      "2\n",
      "3\n",
      "4\n",
      "5\n"
     ]
    }
   ],
   "source": [
    "# 4. How do you iterate through a list using a for loop in Python?\n",
    "\n",
    "list = [1, 2, 3, 4, 5]\n",
    "\n",
    "for i in list:\n",
    "    print(i)\n"
   ]
  },
  {
   "cell_type": "markdown",
   "id": "20c964ac-dd4a-4532-be6a-01af13ddea66",
   "metadata": {},
   "source": [
    "Explanation:\n",
    "\n",
    "This program uses a for loop to iterate through the elements of the list and prints each element."
   ]
  },
  {
   "cell_type": "code",
   "execution_count": 17,
   "id": "7071f9dd-a577-462a-a6d7-2d09343bfb18",
   "metadata": {},
   "outputs": [
    {
     "name": "stdout",
     "output_type": "stream",
     "text": [
      "Product of all elements is:-  3628800\n"
     ]
    }
   ],
   "source": [
    "# 5. Write a Python program to find the product of all elements in a list using a for loop.\n",
    "\n",
    "list = [1,2,3,4,5,6,7,8,9,10]\n",
    "product = 1\n",
    "\n",
    "for i in list:\n",
    "    product*=i\n",
    "print(\"Product of all elements is:- \",product)\n",
    "    "
   ]
  },
  {
   "cell_type": "markdown",
   "id": "74b9dddf-700a-43cd-843f-cc938b4db475",
   "metadata": {},
   "source": [
    "Explanation: \n",
    "    This program initializes a product variable to 1 and multiplies each element of the list to calculate the product."
   ]
  },
  {
   "cell_type": "code",
   "execution_count": 18,
   "id": "c34ae5b5-70ed-4a59-b70d-2133d13e1bd6",
   "metadata": {},
   "outputs": [
    {
     "name": "stdout",
     "output_type": "stream",
     "text": [
      "2\n",
      "4\n",
      "6\n",
      "8\n",
      "10\n",
      "12\n",
      "14\n",
      "16\n",
      "18\n",
      "20\n"
     ]
    }
   ],
   "source": [
    "# 6. Create a Python program that prints all even numbers from 1 to 20 using a for loop.\n",
    "\n",
    "for i in range(1,21):\n",
    "    if i%2==0:\n",
    "        print(i)"
   ]
  },
  {
   "cell_type": "markdown",
   "id": "6e29658d-22d5-4199-bdfb-00cd2294f4ae",
   "metadata": {},
   "source": [
    "Explanation:\n",
    "    This program uses a 'for' loop and itrate fro 1 to 20 and check if the number is divisible by 2 or not if it is divisible by 2 then the number is even."
   ]
  },
  {
   "cell_type": "code",
   "execution_count": 19,
   "id": "3249463e-010d-42c4-af16-bd359fb2e4e8",
   "metadata": {},
   "outputs": [
    {
     "name": "stdin",
     "output_type": "stream",
     "text": [
      "Enter a number:-  5\n"
     ]
    },
    {
     "name": "stdout",
     "output_type": "stream",
     "text": [
      "The Factorial of a number is:-  120\n"
     ]
    }
   ],
   "source": [
    "# 7. Write a Python program that calculates the factorial of a number using a for loop.\n",
    "\n",
    "num = int(input(\"Enter a number:- \"))\n",
    "\n",
    "factorial = 1\n",
    "\n",
    "for i in range(1,num+1):\n",
    "    factorial*=i\n",
    "print(\"The Factorial of a number is:- \",factorial)"
   ]
  },
  {
   "cell_type": "markdown",
   "id": "d179db40-1a9c-4e21-bb3f-2b4651e85ea5",
   "metadata": {},
   "source": [
    "Explanation: \n",
    "    This program calculates the factorial of a number by             iterating from 1 to the given number by user  and               multiplying the current value of factorial by the current       iterator value."
   ]
  },
  {
   "cell_type": "code",
   "execution_count": 23,
   "id": "12aca4b3-eb9c-41f9-ac25-720fc5a52283",
   "metadata": {},
   "outputs": [
    {
     "name": "stdout",
     "output_type": "stream",
     "text": [
      "s\n",
      "o\n",
      "u\n",
      "r\n",
      "a\n",
      "b\n",
      "h\n"
     ]
    }
   ],
   "source": [
    "# 8. How can you iterate through the characters of a string using a for loop in Python?\n",
    "\n",
    "string = 'sourabh'\n",
    "for i in string:\n",
    "    print(i)"
   ]
  },
  {
   "cell_type": "markdown",
   "id": "689442b7-2e2d-49cc-b084-0bfe539a8822",
   "metadata": {},
   "source": [
    "Explanation: \n",
    "    This program uses a for loop to iterate through each             character of the string and prints each character."
   ]
  },
  {
   "cell_type": "code",
   "execution_count": 28,
   "id": "abd6c6c6-1c5e-493a-a1dc-5fc769b746be",
   "metadata": {},
   "outputs": [
    {
     "name": "stdout",
     "output_type": "stream",
     "text": [
      "5555\n"
     ]
    }
   ],
   "source": [
    "# 9. Write a Python program to find the largest number in a list using a for loop.\n",
    "\n",
    "list = [1,3,5,8,6,78,9,669,5555]\n",
    "\n",
    "max_num = list[0]\n",
    "for i in list:\n",
    "    if i > max_num:\n",
    "        max_num=i\n",
    "print(max_num)"
   ]
  },
  {
   "cell_type": "code",
   "execution_count": 35,
   "id": "5ee86c41-7950-46b6-9ec6-59c79773a3db",
   "metadata": {},
   "outputs": [
    {
     "name": "stdin",
     "output_type": "stream",
     "text": [
      "Enter a number to obtain fibonacci sequence:-  10\n"
     ]
    },
    {
     "name": "stdout",
     "output_type": "stream",
     "text": [
      "0\n",
      "1\n",
      "1\n",
      "2\n",
      "3\n",
      "5\n",
      "8\n",
      "13\n",
      "21\n",
      "34\n",
      "55\n",
      "89\n"
     ]
    }
   ],
   "source": [
    "# 10. Create a Python program that prints the Fibonacci sequence up to a specified limit using a for loop.\n",
    "\n",
    "number = int(input(\"Enter a number to obtain fibonacci sequence:- \"))\n",
    "\n",
    "a=0\n",
    "b=1\n",
    "\n",
    "if number == 1:\n",
    "    print(a)\n",
    "else:\n",
    "    print(a)\n",
    "    print(b)\n",
    "    \n",
    "    for i in range(1,number+1):\n",
    "        c = a+b\n",
    "        a = b\n",
    "        b = c\n",
    "        \n",
    "        print(c)"
   ]
  },
  {
   "cell_type": "markdown",
   "id": "d78cd709-0a3f-4c58-82c5-90ffc8edd0a7",
   "metadata": {},
   "source": [
    "EXPLANATION:\n",
    "    \n",
    "    The code takes user input for a number called \"number,\"         which represents the limit of the Fibonacci sequence to be       generated.\n",
    "\n",
    "    It initializes two variables, \"a\" and \"b,\" to 0 and 1,           representing the first two numbers in the Fibonacci             sequence.\n",
    "\n",
    "    If \"number\" is 1, it prints 0 (the first number). Otherwise,     it prints both 0 and 1 and uses a loop to calculate and         print the subsequent numbers in the Fibonacci sequence,         updating \"a\" and \"b\" in each iteration.\n",
    "\n",
    "    The loop generates the sequence up to the specified limit       (\"number\").\n",
    "\n",
    "    The program prints the Fibonacci sequence according to the       user's input.\n",
    "\n",
    "\n",
    "\n",
    "\n"
   ]
  },
  {
   "cell_type": "code",
   "execution_count": 41,
   "id": "f57fe4bf-e3bb-4c71-b542-659d218e40b8",
   "metadata": {},
   "outputs": [
    {
     "name": "stdin",
     "output_type": "stream",
     "text": [
      "Enter string:-  sourabh\n"
     ]
    },
    {
     "name": "stdout",
     "output_type": "stream",
     "text": [
      "Number of vowels: 3\n"
     ]
    }
   ],
   "source": [
    "# 11. Write a Python program to count the number of vowels in a given string using a for loop.\n",
    "\n",
    "string = input(\"Enter string:- \")\n",
    "vowels = \"AEIOUaeiou\"\n",
    "count = 0\n",
    "\n",
    "for char in string:\n",
    "    if char in vowels:\n",
    "        count += 1\n",
    "\n",
    "print(\"Number of vowels:\", count)\n"
   ]
  },
  {
   "cell_type": "markdown",
   "id": "26a316e3-0900-4d7e-a9ab-0f3e4e9d537b",
   "metadata": {},
   "source": [
    "Explanation:\n",
    "    This program counts the number of vowels in the string by iterating through the string and checking if each character is in the vowels string.\n",
    "\n"
   ]
  },
  {
   "cell_type": "code",
   "execution_count": 42,
   "id": "e013d2d3-52a7-44c1-9e73-078ea6093623",
   "metadata": {},
   "outputs": [
    {
     "name": "stdin",
     "output_type": "stream",
     "text": [
      "Enter a number:  8\n"
     ]
    },
    {
     "name": "stdout",
     "output_type": "stream",
     "text": [
      "Multiplication Table for 8:\n",
      "8 x 1 = 8\n",
      "8 x 2 = 16\n",
      "8 x 3 = 24\n",
      "8 x 4 = 32\n",
      "8 x 5 = 40\n",
      "8 x 6 = 48\n",
      "8 x 7 = 56\n",
      "8 x 8 = 64\n",
      "8 x 9 = 72\n",
      "8 x 10 = 80\n"
     ]
    }
   ],
   "source": [
    "# 12. Create a Python program that generates a multiplication table for a given number using a for loop.\n",
    "\n",
    "\n",
    "# Input a number for which you want to generate a multiplication table\n",
    "number = int(input(\"Enter a number: \"))\n",
    "\n",
    "# Define the range for the multiplication table (e.g., 1 to 10)\n",
    "table_range = range(1, 11)\n",
    "\n",
    "# Print the multiplication table heading\n",
    "print(f\"Multiplication Table for {number}:\")\n",
    "\n",
    "# Use a for loop to generate and print the table\n",
    "for i in table_range:\n",
    "    result = number * i\n",
    "    print(f\"{number} x {i} = {result}\")\n"
   ]
  },
  {
   "cell_type": "markdown",
   "id": "90f0aeac-2c17-4120-a625-bb009357b4b6",
   "metadata": {},
   "source": [
    "EXPLANATION:\n",
    "    \n",
    "    It first asks the user to input a number for which they want to generate a multiplication table.\n",
    "\n",
    "It defines a table_range containing the numbers 1 to 10. You can change this range to generate a different size of the multiplication table.\n",
    "\n",
    "It prints a heading for the multiplication table, indicating which number's table is being displayed.\n",
    "\n",
    "It uses a for loop to iterate through the numbers in the table_range.\n",
    "\n",
    "Inside the loop, it calculates the result of multiplying the user's input number by the current number in the loop (number * i).\n",
    "\n",
    "It prints each multiplication as a line in the table, showing the equation and result.\n",
    "\n"
   ]
  },
  {
   "cell_type": "code",
   "execution_count": 3,
   "id": "27f0d07f-4993-4373-ac75-d0d63bd0bdd0",
   "metadata": {},
   "outputs": [
    {
     "name": "stdout",
     "output_type": "stream",
     "text": [
      "Original List: [1, 2, 3, 4, 5]\n",
      "Reversed List: [5, 4, 3, 2, 1]\n"
     ]
    }
   ],
   "source": [
    "# 13. Write a Python program to reverse a list using a for loop.\n",
    "\n",
    "# Initialize the original list\n",
    "original_list = [1, 2, 3, 4, 5]\n",
    "\n",
    "# Create an empty list to store the reversed elements\n",
    "reversed_list = []\n",
    "\n",
    "# Iterate through the original list in reverse order\n",
    "for i in range(len(original_list) - 1, -1, -1):\n",
    "    reversed_list.append(original_list[i])\n",
    "\n",
    "# Print the reversed list\n",
    "print(\"Original List:\", original_list)\n",
    "print(\"Reversed List:\", reversed_list)\n"
   ]
  },
  {
   "cell_type": "code",
   "execution_count": 4,
   "id": "8ad24389-8988-45d6-990c-572199ed1ce1",
   "metadata": {},
   "outputs": [
    {
     "name": "stdout",
     "output_type": "stream",
     "text": [
      "List 1: [1, 2, 3, 4, 5]\n",
      "List 2: [3, 4, 5, 6, 7]\n",
      "Common Elements: [3, 4, 5]\n"
     ]
    }
   ],
   "source": [
    "# 14. Write a Python program to find the common elements between two lists using a for loop.\n",
    "\n",
    "\n",
    "# Initialize two lists\n",
    "list1 = [1, 2, 3, 4, 5]\n",
    "list2 = [3, 4, 5, 6, 7]\n",
    "\n",
    "# Create an empty list to store common elements\n",
    "common_elements = []\n",
    "\n",
    "# Use a for loop to iterate through list1\n",
    "for item in list1:\n",
    "    # Check if the item is in list2\n",
    "    if item in list2:\n",
    "        # If it's in both lists, append it to common_elements\n",
    "        common_elements.append(item)\n",
    "\n",
    "# Print the common elements\n",
    "print(\"List 1:\", list1)\n",
    "print(\"List 2:\", list2)\n",
    "print(\"Common Elements:\", common_elements)\n"
   ]
  },
  {
   "cell_type": "markdown",
   "id": "5e968779-5d91-47cc-b493-40baeed208fc",
   "metadata": {},
   "source": [
    "Explanation:\n",
    "\n",
    "We start with two lists, list1 and list2, containing some elements.\n",
    "\n",
    "We create an empty list called common_elements where we will store the common elements found in both lists.\n",
    "\n",
    "We use a for loop to iterate through list1. For each item in list1, we check if it exists in list2 using the if item in list2: condition.\n",
    "\n",
    "If the item is found in both lists, we append it to the common_elements list.\n",
    "\n",
    "Finally, we print the original list1 and list2, as well as the common_elements list to display the common elements.\n",
    "\n"
   ]
  },
  {
   "cell_type": "code",
   "execution_count": 6,
   "id": "2813fd41-b162-45b2-83e2-3d0ae1b36917",
   "metadata": {},
   "outputs": [
    {
     "name": "stdout",
     "output_type": "stream",
     "text": [
      "Key: name, Value: sourabh\n",
      "Key: age, Value: 21\n",
      "Key: city, Value: Bhilwara\n"
     ]
    }
   ],
   "source": [
    "# 15. Explain how to use a for loop to iterate through the keys and values of a dictionary in Python.\n",
    "\n",
    "# Create a sample dictionary\n",
    "my_dict = {'name': 'sourabh', 'age': 21, 'city': 'Bhilwara'}\n",
    "\n",
    "# Iterate through keys and values using a for loop\n",
    "for key, value in my_dict.items():\n",
    "    print(f'Key: {key}, Value: {value}')\n"
   ]
  },
  {
   "cell_type": "markdown",
   "id": "e8f9a3b6-fb58-488b-a5ce-a1b23edb9aa2",
   "metadata": {},
   "source": [
    "Explanation:\n",
    "\n",
    "We start by creating a sample dictionary called my_dict. This dictionary contains key-value pairs.\n",
    "\n",
    "To iterate through the keys and values of the dictionary, we use a for loop with the .items() method. The .items() method returns a sequence of key-value pairs as tuples, and the for loop unpacks these pairs into key and value variables during each iteration.\n",
    "\n",
    "Inside the loop, we can access both the key and its corresponding value and perform any desired operations. In this example, we are simply printing them.\n",
    "\n",
    "The loop will continue until it has iterated through all key-value pairs in the dictionary."
   ]
  },
  {
   "cell_type": "code",
   "execution_count": 7,
   "id": "d7c805c9-a9cc-45be-8368-190ad6075863",
   "metadata": {},
   "outputs": [
    {
     "name": "stdin",
     "output_type": "stream",
     "text": [
      "Enter the first number:  24\n",
      "Enter the second number:  46\n"
     ]
    },
    {
     "name": "stdout",
     "output_type": "stream",
     "text": [
      "The GCD of 24 and 46 is 2\n"
     ]
    }
   ],
   "source": [
    "# 16. Write a Python program to find the GCD (Greatest Common Divisor) of two numbers using a for loop.\n",
    "\n",
    "# Input two numbers\n",
    "num1 = int(input(\"Enter the first number: \"))\n",
    "num2 = int(input(\"Enter the second number: \"))\n",
    "\n",
    "# Find the minimum of the two numbers\n",
    "min_num = min(num1, num2)\n",
    "\n",
    "# Initialize a variable to store the GCD\n",
    "gcd = 1\n",
    "\n",
    "# Use a for loop to find the GCD\n",
    "for i in range(1, min_num + 1):\n",
    "    if num1 % i == 0 and num2 % i == 0:\n",
    "        gcd = i\n",
    "\n",
    "# Print the GCD\n",
    "print(f\"The GCD of {num1} and {num2} is {gcd}\")\n"
   ]
  },
  {
   "cell_type": "markdown",
   "id": "44af38da-ecc1-41f7-b9eb-54d937dc55d3",
   "metadata": {},
   "source": [
    "Explanation:\n",
    "\n",
    "We take input from the user for the two numbers, num1 and num2.\n",
    "\n",
    "We find the minimum of the two numbers using the min() function and store it in the variable min_num. This value is used as the upper limit in the for loop.\n",
    "\n",
    "We initialize a variable gcd to 1. This variable will be used to store the GCD.\n",
    "\n",
    "We use a for loop to iterate through numbers from 1 to min_num (inclusive). These are potential divisors of both num1 and num2.\n",
    "\n",
    "Inside the loop, we check if both num1 and num2 are divisible by the current number i (i.e., num1 % i == 0 and num2 % i == 0). If they are, we update the gcd variable to the current value of i. This way, we keep track of the greatest common divisor found so far.\n",
    "\n",
    "After the loop, we print the calculated GCD.\n",
    "\n"
   ]
  },
  {
   "cell_type": "code",
   "execution_count": 8,
   "id": "ef3a9ec7-926c-493a-8c73-ab00776dde18",
   "metadata": {},
   "outputs": [
    {
     "name": "stdin",
     "output_type": "stream",
     "text": [
      "Enter a string:  sourabh\n"
     ]
    },
    {
     "name": "stdout",
     "output_type": "stream",
     "text": [
      "The string is not a palindrome.\n"
     ]
    }
   ],
   "source": [
    "# 17. Create a Python program that checks if a string is a palindrome using a for loop.\n",
    "\n",
    "\n",
    "# Input a string\n",
    "input_string = input(\"Enter a string: \")\n",
    "\n",
    "# Remove spaces and convert to lowercase for accurate palindrome check\n",
    "input_string = input_string.replace(\" \", \"\").lower()\n",
    "\n",
    "# Initialize a flag to track whether the string is a palindrome\n",
    "is_palindrome = True\n",
    "\n",
    "# Use a for loop to compare characters from the start and end of the string\n",
    "for i in range(len(input_string) // 2):\n",
    "    if input_string[i] != input_string[-i - 1]:\n",
    "        is_palindrome = False\n",
    "        break\n",
    "\n",
    "# Print the result\n",
    "if is_palindrome:\n",
    "    print(\"The string is a palindrome.\")\n",
    "else:\n",
    "    print(\"The string is not a palindrome.\")\n"
   ]
  },
  {
   "cell_type": "markdown",
   "id": "780821cd-ee2a-439d-b302-72f3f4b83790",
   "metadata": {},
   "source": [
    "Explanation:\n",
    "\n",
    "The program takes input from the user for a string.\n",
    "\n",
    "It removes spaces from the input string using the replace() method and converts the string to lowercase using the lower() method. This step ensures that spaces and letter case do not affect the palindrome check.\n",
    "\n",
    "The is_palindrome variable is initialized to True, assuming that the string is a palindrome by default.\n",
    "\n",
    "A for loop is used to compare characters from the start and end of the string. The loop iterates up to half of the string's length.\n",
    "\n",
    "Inside the loop, it checks if the characters at the current position (input_string[i] and input_string[-i - 1]) are not equal. If they are not equal, it means the string is not a palindrome, and the is_palindrome flag is set to False. The loop breaks at this point to save computation.\n",
    "\n",
    "After the loop, the program prints whether the string is a palindrome or not based on the value of the is_palindrome flag."
   ]
  },
  {
   "cell_type": "code",
   "execution_count": 9,
   "id": "5fa04a87-56db-4dc0-a582-785535651b90",
   "metadata": {},
   "outputs": [
    {
     "name": "stdout",
     "output_type": "stream",
     "text": [
      "Original List: [1, 2, 2, 3, 4, 4, 5, 6, 6]\n",
      "List with Duplicates Removed: [1, 2, 3, 4, 5, 6]\n"
     ]
    }
   ],
   "source": [
    "# 18. Write a Python program to remove duplicates from a list using a for loop.\n",
    "\n",
    "\n",
    "# Input a list with duplicates\n",
    "input_list = [1, 2, 2, 3, 4, 4, 5, 6, 6]\n",
    "\n",
    "# Create an empty list to store unique elements\n",
    "unique_list = []\n",
    "\n",
    "# Use a for loop to iterate through the input list\n",
    "for item in input_list:\n",
    "    # If the item is not already in the unique list, add it\n",
    "    if item not in unique_list:\n",
    "        unique_list.append(item)\n",
    "\n",
    "# Print the list with duplicates removed\n",
    "print(\"Original List:\", input_list)\n",
    "print(\"List with Duplicates Removed:\", unique_list)\n"
   ]
  },
  {
   "cell_type": "markdown",
   "id": "a9af2270-f590-4d04-861e-e160af5f26a7",
   "metadata": {},
   "source": [
    "Explanation:\n",
    "\n",
    "The program starts with an input_list that contains duplicate elements.\n",
    "\n",
    "It creates an empty list called unique_list, which will store the unique elements from the input_list.\n",
    "\n",
    "A for loop is used to iterate through each element of the input_list.\n",
    "\n",
    "Inside the loop, there's a check to see if the current element item is not already in the unique_list. If it's not in the list, it means the element is unique, so it's added to the unique_list.\n",
    "\n",
    "After the loop completes, the program prints both the original list and the unique_list that contains the duplicate elements removed."
   ]
  },
  {
   "cell_type": "code",
   "execution_count": 10,
   "id": "d67c7cb0-9e53-470d-b1a6-b23d3a54fe24",
   "metadata": {},
   "outputs": [
    {
     "name": "stdin",
     "output_type": "stream",
     "text": [
      "Enter a sentence:  asdufo; roiehviuevh roro\n"
     ]
    },
    {
     "name": "stdout",
     "output_type": "stream",
     "text": [
      "The number of words in the sentence is: 3\n"
     ]
    }
   ],
   "source": [
    "# 19. Create a Python program that counts the number of words in a sentence using a for loop.\n",
    "\n",
    "\n",
    "    # Input a sentence\n",
    "sentence = input(\"Enter a sentence: \")\n",
    "\n",
    "# Split the sentence into words using spaces as the delimiter\n",
    "words = sentence.split()\n",
    "\n",
    "# Initialize a variable to count words\n",
    "word_count = 0\n",
    "\n",
    "# Use a for loop to iterate through the list of words\n",
    "for word in words:\n",
    "    word_count += 1\n",
    "\n",
    "# Print the word count\n",
    "print(f\"The number of words in the sentence is: {word_count}\")\n"
   ]
  },
  {
   "cell_type": "markdown",
   "id": "3a1a4fe8-dac3-4478-972a-2947086d5060",
   "metadata": {},
   "source": [
    "Explanation:\n",
    "\n",
    "The program takes input from the user for a sentence.\n",
    "\n",
    "It uses the .split() method to split the sentence string into a list of words. By default, .split() splits the string at spaces, which separates the words.\n",
    "\n",
    "It initializes a variable word_count to zero. This variable will be used to count the number of words in the sentence.\n",
    "\n",
    "A for loop is used to iterate through each word in the words list.\n",
    "\n",
    "Inside the loop, it increments the word_count by 1 for each word encountered.\n",
    "\n",
    "Finally, the program prints the word count, indicating the number of words in the input sentence."
   ]
  },
  {
   "cell_type": "code",
   "execution_count": 11,
   "id": "acdf6e53-de36-4bb2-a77c-8cf719f984a4",
   "metadata": {},
   "outputs": [
    {
     "name": "stdout",
     "output_type": "stream",
     "text": [
      "The sum of odd numbers from 1 to 50 is: 625\n"
     ]
    }
   ],
   "source": [
    "# 20. Write a Python program to find the sum of all odd numbers from 1 to 50 using a for loop.\n",
    "\n",
    "\n",
    "# Initialize a variable to store the sum\n",
    "sum_of_odds = 0\n",
    "\n",
    "# Use a for loop to iterate through numbers from 1 to 50\n",
    "for num in range(1, 51):\n",
    "    # Check if the number is odd\n",
    "    if num % 2 != 0:\n",
    "        sum_of_odds += num\n",
    "\n",
    "# Print the sum of odd numbers\n",
    "print(\"The sum of odd numbers from 1 to 50 is:\", sum_of_odds)\n"
   ]
  },
  {
   "cell_type": "markdown",
   "id": "ef38de14-42bb-4c11-a0f2-c847482a8e63",
   "metadata": {},
   "source": [
    "Explanation:\n",
    "\n",
    "The program initializes a variable sum_of_odds to zero. This variable will be used to store the sum of odd numbers.\n",
    "\n",
    "A for loop is used to iterate through numbers from 1 to 50 (inclusive). The range(1, 51) generates numbers from 1 to 50.\n",
    "\n",
    "Inside the loop, there's a check to determine if the current number num is odd. This is done by checking if the remainder of dividing num by 2 is not equal to 0. If it's not equal to 0, then the number is odd.\n",
    "\n",
    "If the number is odd, it is added to the sum_of_odds variable.\n",
    "\n",
    "After the loop completes, the program prints the sum of odd numbers from 1 to 50.\n",
    "\n"
   ]
  },
  {
   "cell_type": "code",
   "execution_count": 12,
   "id": "7cea8b32-3469-4530-88ce-36966e344063",
   "metadata": {},
   "outputs": [
    {
     "name": "stdin",
     "output_type": "stream",
     "text": [
      "Enter a year:  20024\n"
     ]
    },
    {
     "name": "stdout",
     "output_type": "stream",
     "text": [
      "20024 is a leap year.\n"
     ]
    }
   ],
   "source": [
    "# 21. Write a Python program that checks if a given year is a leap year using a for loop.\n",
    "\n",
    "\n",
    "# Input a year from the user\n",
    "year = int(input(\"Enter a year: \"))\n",
    "\n",
    "# Check if it's a leap year\n",
    "if (year % 4 == 0 and year % 100 != 0) or (year % 400 == 0):\n",
    "    print(f\"{year} is a leap year.\")\n",
    "else:\n",
    "    print(f\"{year} is not a leap year.\")\n"
   ]
  },
  {
   "cell_type": "markdown",
   "id": "b3f879b2-e3f1-48c6-825e-6c8dcab6f6dd",
   "metadata": {},
   "source": [
    "Explanation:\n",
    "\n",
    "The program takes input from the user for a year and converts it to an integer using int().\n",
    "\n",
    "It checks if the given year is a leap year using a conditional statement:\n",
    "\n",
    "A leap year is divisible by 4 (year % 4 == 0).\n",
    "It is not divisible by 100 (year % 100 != 0) unless it is divisible by 400 (year % 400 == 0).\n",
    "If both conditions are met, the year is considered a leap year.\n",
    "If the year meets the conditions for a leap year, the program prints that it's a leap year; otherwise, it prints that it's not a leap year.\n",
    "\n"
   ]
  },
  {
   "cell_type": "code",
   "execution_count": 2,
   "id": "372e20e6-0dc5-4b39-ac1a-ca4f276e3a82",
   "metadata": {},
   "outputs": [
    {
     "name": "stdin",
     "output_type": "stream",
     "text": [
      "Enter a number:  34\n"
     ]
    },
    {
     "name": "stdout",
     "output_type": "stream",
     "text": [
      "The square root of 34.0 is approximately 5.830951894845301\n"
     ]
    }
   ],
   "source": [
    "# 22. Create a Python program that calculates the square root of a number using a for loop.\n",
    "\n",
    "\n",
    "# Input a number\n",
    "num = float(input(\"Enter a number: \"))\n",
    "\n",
    "# Initialize an approximate square root\n",
    "approx_sqrt = num / 2  # Starting with an initial guess\n",
    "\n",
    "# Number of iterations\n",
    "iterations = 10  # You can adjust the number of iterations as needed\n",
    "\n",
    "# Use a for loop to refine the approximation\n",
    "for _ in range(iterations):\n",
    "    approx_sqrt = 0.5 * (approx_sqrt + (num / approx_sqrt))\n",
    "\n",
    "# Print the square root approximation\n",
    "print(f\"The square root of {num} is approximately {approx_sqrt}\")\n"
   ]
  },
  {
   "cell_type": "markdown",
   "id": "4f1f8d37-78f6-49db-aab5-cbaac7f8403a",
   "metadata": {},
   "source": [
    "Explanation:\n",
    "\n",
    "The program takes input from the user for a number and converts it to a floating-point number using float().\n",
    "\n",
    "It initializes an approximate square root, approx_sqrt, with an initial guess of num / 2. This is a common starting point for square root approximations.\n",
    "\n",
    "You can adjust the iterations variable to control the number of iterations used to refine the approximation. More iterations will result in a more accurate square root.\n",
    "\n",
    "A for loop is used to iteratively refine the approximation. In each iteration, the program updates approx_sqrt using the Newton-Raphson method formula, which improves the estimate of the square root.\n",
    "\n",
    "After the specified number of iterations, the program prints the approximate square root of the input number.\n",
    "\n"
   ]
  },
  {
   "cell_type": "code",
   "execution_count": 3,
   "id": "ebc128bf-7dbb-4f05-99d9-e0bbfb0cbeb3",
   "metadata": {},
   "outputs": [
    {
     "name": "stdin",
     "output_type": "stream",
     "text": [
      "Enter the first number:  35\n",
      "Enter the second number:  53\n"
     ]
    },
    {
     "name": "stdout",
     "output_type": "stream",
     "text": [
      "The LCM of 35 and 53 is 1855\n"
     ]
    }
   ],
   "source": [
    "# 23. Write a Python program to find the LCM (Least Common Multiple) of two numbers using a for loop.\n",
    "\n",
    "\n",
    "# Input two numbers\n",
    "num1 = int(input(\"Enter the first number: \"))\n",
    "num2 = int(input(\"Enter the second number: \"))\n",
    "\n",
    "# Find the maximum of the two numbers\n",
    "max_num = max(num1, num2)\n",
    "\n",
    "# Use a for loop to find the LCM\n",
    "for i in range(max_num, num1 * num2 + 1):\n",
    "    if i % num1 == 0 and i % num2 == 0:\n",
    "        lcm = i\n",
    "        break\n",
    "\n",
    "# Print the LCM\n",
    "print(f\"The LCM of {num1} and {num2} is {lcm}\")\n"
   ]
  },
  {
   "cell_type": "markdown",
   "id": "f73c6852-5912-44c8-8875-bb3130e06977",
   "metadata": {},
   "source": [
    "Explanation:\n",
    "\n",
    "The program takes input from the user for two numbers, num1 and num2.\n",
    "\n",
    "It finds the maximum of the two numbers using the max() function and stores it in the variable max_num.\n",
    "\n",
    "A for loop is used to iterate through numbers starting from max_num and continuing until a number is found that is divisible by both num1 and num2.\n",
    "\n",
    "Inside the loop, it checks if the current number i is divisible by both num1 and num2 using the modulo operator (%). If it is, the loop breaks, and the found value of i is the LCM.\n",
    "\n",
    "Finally, the program prints the calculated LCM.\n",
    "\n"
   ]
  },
  {
   "cell_type": "code",
   "execution_count": 1,
   "id": "0de032e2-f38f-4944-9e7a-84f2439d4d31",
   "metadata": {},
   "outputs": [],
   "source": [
    "# IF-ELSE!!"
   ]
  },
  {
   "cell_type": "code",
   "execution_count": 2,
   "id": "a49ef37a-4664-4bca-80ba-5be24b44a7ce",
   "metadata": {},
   "outputs": [
    {
     "name": "stdin",
     "output_type": "stream",
     "text": [
      "Enter a number:  4\n"
     ]
    },
    {
     "name": "stdout",
     "output_type": "stream",
     "text": [
      "Positive number\n"
     ]
    }
   ],
   "source": [
    "# 24. Write a Python program to check if a number is positive, negative, or zero using an if-else statement.\n",
    "\n",
    "\n",
    "# Get user input\n",
    "num = float(input(\"Enter a number: \"))\n",
    "\n",
    "# Check if the number is positive, negative, or zero\n",
    "if num > 0:\n",
    "    print(\"Positive number\")\n",
    "elif num < 0:\n",
    "    print(\"Negative number\")\n",
    "else:\n",
    "    print(\"Zero\")\n"
   ]
  },
  {
   "cell_type": "markdown",
   "id": "72213016-31f6-4e8d-a413-95af2eee5fae",
   "metadata": {},
   "source": [
    "Explanation:\n",
    "The program takes user input as a floating-point number.\n",
    "It uses an if-else statement to check the number.\n",
    "If the number is greater than 0, it's positive. If it's less than 0, it's negative. If it's 0, it's zero."
   ]
  },
  {
   "cell_type": "code",
   "execution_count": 3,
   "id": "b5c3ef64-4adc-418a-bfa6-d4eb85ee3382",
   "metadata": {},
   "outputs": [
    {
     "name": "stdin",
     "output_type": "stream",
     "text": [
      "Enter a number:  3\n"
     ]
    },
    {
     "name": "stdout",
     "output_type": "stream",
     "text": [
      "Odd number\n"
     ]
    }
   ],
   "source": [
    "# 25. Create a Python program that checks if a given number is even or odd using an if-else statement.\n",
    "\n",
    "\n",
    "# Get user input\n",
    "num = int(input(\"Enter a number: \"))\n",
    "\n",
    "# Check if the number is even or odd\n",
    "if num % 2 == 0:\n",
    "    print(\"Even number\")\n",
    "else:\n",
    "    print(\"Odd number\")\n"
   ]
  },
  {
   "cell_type": "markdown",
   "id": "66bab527-082a-49c8-b642-b2aecb9987c6",
   "metadata": {},
   "source": [
    "Explanation:\n",
    "The program takes user input as an integer.\n",
    "It uses the modulo operator (%) to check if the number is divisible by 2.\n",
    "If the remainder is 0 (when divided by 2), the number is even. Otherwise, it's odd.\n"
   ]
  },
  {
   "cell_type": "code",
   "execution_count": 4,
   "id": "3dc9ea77-b578-474a-93eb-a7e675b5d9a7",
   "metadata": {},
   "outputs": [
    {
     "name": "stdin",
     "output_type": "stream",
     "text": [
      "Enter a number:  34\n"
     ]
    },
    {
     "name": "stdout",
     "output_type": "stream",
     "text": [
      "Positive number\n"
     ]
    }
   ],
   "source": [
    "# 26. How can you use nested if-else statements in Python, and provide an example?\n",
    "\n",
    "# Get user input\n",
    "num = int(input(\"Enter a number: \"))\n",
    "\n",
    "# Check if the number is positive, negative, or zero using nested if-else\n",
    "if num >= 0:\n",
    "    if num == 0:\n",
    "        print(\"Zero\")\n",
    "    else:\n",
    "        print(\"Positive number\")\n",
    "else:\n",
    "    print(\"Negative number\")\n"
   ]
  },
  {
   "cell_type": "markdown",
   "id": "4c094aaa-56a9-4176-8e8e-6dadcb40e156",
   "metadata": {},
   "source": [
    "Explanation:\n",
    "This program demonstrates nested if-else statements.\n",
    "It first checks if the number is non-negative. If it's non-negative, it further checks if it's zero or positive.\n",
    "If the number is negative, it directly prints \"Negative number\"."
   ]
  },
  {
   "cell_type": "code",
   "execution_count": 6,
   "id": "a6502a98-c427-4412-a785-cdb580e5785d",
   "metadata": {},
   "outputs": [
    {
     "name": "stdin",
     "output_type": "stream",
     "text": [
      "Enter first number:  1\n",
      "Enter second number:  2\n",
      "Enter third number:  3\n"
     ]
    },
    {
     "name": "stdout",
     "output_type": "stream",
     "text": [
      "Largest number: 3.0\n"
     ]
    }
   ],
   "source": [
    "# 27. Write a Python program to determine the largest of three numbers using if-else.\n",
    "\n",
    "# Get user inputs\n",
    "num1 = float(input(\"Enter first number: \"))\n",
    "num2 = float(input(\"Enter second number: \"))\n",
    "num3 = float(input(\"Enter third number: \"))\n",
    "\n",
    "# Determine the largest number using if-else\n",
    "if num1 >= num2 and num1 >= num3:\n",
    "    print(\"Largest number:\", num1)\n",
    "elif num2 >= num1 and num2 >= num3:\n",
    "    print(\"Largest number:\", num2)\n",
    "else:\n",
    "    print(\"Largest number:\", num3)\n"
   ]
  },
  {
   "cell_type": "markdown",
   "id": "0dbebecd-9a86-470d-9484-9c294500b665",
   "metadata": {},
   "source": [
    "Explanation:\n",
    "The program takes three floating-point numbers as input.\n",
    "It uses if-else statements to compare the numbers and find the largest among them.\n",
    "The program checks conditions for each number to find the largest one."
   ]
  },
  {
   "cell_type": "code",
   "execution_count": 8,
   "id": "38ae6a7a-d737-481c-a1fd-ac36700977f7",
   "metadata": {},
   "outputs": [
    {
     "name": "stdin",
     "output_type": "stream",
     "text": [
      "Enter a number:  1\n"
     ]
    },
    {
     "name": "stdout",
     "output_type": "stream",
     "text": [
      "Absolute value: 1.0\n"
     ]
    }
   ],
   "source": [
    "# 28. Write a Python program that calculates the absolute value of a number using if-else.\n",
    "\n",
    "# Get user input\n",
    "num = float(input(\"Enter a number: \"))\n",
    "\n",
    "# Calculate absolute value using if-else\n",
    "if num >= 0:\n",
    "    print(\"Absolute value:\", num)\n",
    "else:\n",
    "    print(\"Absolute value:\", -num)\n"
   ]
  },
  {
   "cell_type": "markdown",
   "id": "0ae19ff2-c562-4dd2-ad64-1640c380252b",
   "metadata": {},
   "source": [
    "Explanation:\n",
    "The program takes a number as input.\n",
    "It uses an if-else statement to check if the number is non-negative or negative.\n",
    "If it's non-negative, the program prints the number as the absolute value. If it's negative, it prints the negation of the number.\n"
   ]
  },
  {
   "cell_type": "code",
   "execution_count": 9,
   "id": "ac0eb258-7ac8-46f7-a53a-bd6b710ad6ff",
   "metadata": {},
   "outputs": [
    {
     "name": "stdin",
     "output_type": "stream",
     "text": [
      "Enter a character:  sosi\n"
     ]
    },
    {
     "name": "stdout",
     "output_type": "stream",
     "text": [
      "Consonant\n"
     ]
    }
   ],
   "source": [
    "# 29. Create a Python program that checks if a given character is a vowel or consonant using if-else.\n",
    "\n",
    "# Get user input\n",
    "char = input(\"Enter a character: \")\n",
    "\n",
    "# Check if the character is a vowel or consonant using if-else\n",
    "if char.lower() in 'aeiou':\n",
    "    print(\"Vowel\")\n",
    "else:\n",
    "    print(\"Consonant\")\n"
   ]
  },
  {
   "cell_type": "markdown",
   "id": "c25b5ec3-4729-4357-bfaa-e2ef4ce478ba",
   "metadata": {},
   "source": [
    "Explanation:\n",
    "The program takes a character as input.\n",
    "It uses an if-else statement to check if the lowercase version of the character is a vowel (aeiou) or a consonant.\n",
    "It prints \"Vowel\" if the character is a vowel; otherwise, it prints \"Consonant\"."
   ]
  },
  {
   "cell_type": "code",
   "execution_count": 11,
   "id": "831fc364-94aa-4d27-9cbb-09255c0af6ef",
   "metadata": {},
   "outputs": [
    {
     "name": "stdin",
     "output_type": "stream",
     "text": [
      "Enter your age:  1\n"
     ]
    },
    {
     "name": "stdout",
     "output_type": "stream",
     "text": [
      "You are not eligible to vote\n"
     ]
    }
   ],
   "source": [
    "# 30. Write a Python program to determine if a user is eligible to vote based on their age using if-else.\n",
    "\n",
    "# Get user input\n",
    "age = int(input(\"Enter your age: \"))\n",
    "\n",
    "# Check eligibility to vote using if-else\n",
    "if age >= 18:\n",
    "    print(\"You are eligible to vote\")\n",
    "else:\n",
    "    print(\"You are not eligible to vote\")\n"
   ]
  },
  {
   "cell_type": "markdown",
   "id": "3a02ede2-362d-48c7-a543-b3659b95e6b4",
   "metadata": {},
   "source": [
    "Explanation:\n",
    "The program takes the user's age as input.\n",
    "It uses an if-else statement to check if the age is greater than or equal to 18.\n",
    "If the age is 18 or more, it prints \"You are eligible to vote\". Otherwise, it prints \"You are not eligible to vote\"."
   ]
  },
  {
   "cell_type": "code",
   "execution_count": null,
   "id": "552f3b12-ae08-4740-baf6-34668c14d203",
   "metadata": {},
   "outputs": [],
   "source": [
    "# 31. Create a Python program that calculates the discount amount based on the purchase amount using if-else.\n",
    "\n",
    "# Get purchase amount from user\n",
    "purchase_amount = float(input(\"Enter the purchase amount: \"))\n",
    "\n",
    "# Calculate discount based on purchase amount using if-else\n",
    "if purchase_amount >= 1000:\n",
    "    discount = 0.1 * purchase_amount  # 10% discount for purchase amount >= 1000\n",
    "else:\n",
    "    discount = 0\n",
    "\n",
    "# Calculate discounted amount and total amount\n",
    "discounted_amount = purchase_amount - discount\n",
    "print(\"Discounted amount:\", discounted_amount)\n",
    "print(\"Discount amount:\", discount)\n"
   ]
  },
  {
   "cell_type": "markdown",
   "id": "ce3ea637-15f1-453c-8cb8-1316e7f479de",
   "metadata": {},
   "source": [
    "Explanation:\n",
    "The program takes the purchase amount as input.\n",
    "It uses an if-else statement to check if the purchase amount is greater than or equal to 1000.\n",
    "If the purchase amount is 1000 or more, it calculates a 10% discount. Otherwise, the discount is 0.\n",
    "It calculates the discounted amount and prints both the discounted amount and the discount value.\n"
   ]
  },
  {
   "cell_type": "code",
   "execution_count": null,
   "id": "3131119d-5fd7-4997-bf74-323c27f1893a",
   "metadata": {},
   "outputs": [],
   "source": [
    "# 32. Write a Python program to check if a number is within a specified range using if-else.\n",
    "\n",
    "# Get user input for number and range\n",
    "num = float(input(\"Enter a number: \"))\n",
    "lower_limit = float(input(\"Enter lower limit of the range: \"))\n",
    "upper_limit = float(input(\"Enter upper limit of the range: \"))\n",
    "\n",
    "# Check if the number is within the specified range using if-else\n",
    "if lower_limit <= num <= upper_limit:\n",
    "    print(\"Number is within the specified range.\")\n",
    "else:\n",
    "    print(\"Number is outside the specified range.\")\n"
   ]
  },
  {
   "cell_type": "markdown",
   "id": "dda6bf68-80bf-412c-9124-cefd8a4b78c5",
   "metadata": {},
   "source": [
    "Explanation:\n",
    "The program takes a number and a lower and upper limit as input.\n",
    "It uses an if-else statement to check if the number is within the specified range (inclusive).\n",
    "If the number is within the range, it prints \"Number is within the specified range\". Otherwise, it prints \"Number is outside the specified range\".\n"
   ]
  },
  {
   "cell_type": "code",
   "execution_count": null,
   "id": "434cffbc-3c11-4aa6-9aad-5e1f7dcf3caa",
   "metadata": {},
   "outputs": [],
   "source": [
    "# 33. Create a Python program that determines the grade of a student based on their score using if-else.\n",
    "\n",
    "# Get user input for student's score\n",
    "score = float(input(\"Enter student's score: \"))\n",
    "\n",
    "# Determine grade based on score using if-else\n",
    "if 90 <= score <= 100:\n",
    "    print(\"Grade: A\")\n",
    "elif 80 <= score < 90:\n",
    "    print(\"Grade: B\")\n",
    "elif 70 <= score < 80:\n",
    "    print(\"Grade: C\")\n",
    "elif 60 <= score < 70:\n",
    "    print(\"Grade: D\")\n",
    "else:\n",
    "    print(\"Grade: F\")\n"
   ]
  },
  {
   "cell_type": "markdown",
   "id": "1faf4a0d-baea-40f4-90f5-506cba001d12",
   "metadata": {},
   "source": [
    "Explanation:\n",
    "The program takes the student's score as input.\n",
    "It uses if-else statements to check the score against predefined ranges to determine the grade.\n",
    "Depending on the score, it assigns a grade from 'A' to 'F' and prints the corresponding grade.\n"
   ]
  },
  {
   "cell_type": "code",
   "execution_count": null,
   "id": "5d9214fb-26e5-433d-bb15-e764966f0688",
   "metadata": {},
   "outputs": [],
   "source": [
    "# 34. Write a Python program to check if a string is empty or not using if-else.\n",
    "\n",
    "# Get user input\n",
    "string = input(\"Enter a string: \")\n",
    "\n",
    "# Check if the string is empty or not using if-else\n",
    "if string:\n",
    "    print(\"The string is not empty.\")\n",
    "else:\n",
    "    print(\"The string is empty.\")\n"
   ]
  },
  {
   "cell_type": "markdown",
   "id": "01d39c4d-a0b3-4926-b617-8837338f4be5",
   "metadata": {},
   "source": [
    "Explanation:\n",
    "The program uses an if-else statement to check if the input string is empty.\n",
    "If the string is not empty (evaluates to True), it prints \"The string is not empty.\" Otherwise, it prints \"The string is empty.\""
   ]
  },
  {
   "cell_type": "code",
   "execution_count": null,
   "id": "bbae3f16-3fe6-4d94-8372-151917ed3b6e",
   "metadata": {},
   "outputs": [],
   "source": [
    "# 35. Create a Python program that identifies the type of a triangle (e.g., equilateral, isosceles, or scalene) based on input values using if-else.\n",
    "\n",
    "# Get input side lengths from the user\n",
    "a = int(input(\"Enter side length A: \"))\n",
    "b = int(input(\"Enter side length B: \"))\n",
    "c = int(input(\"Enter side length C: \"))\n",
    "\n",
    "# Determine the type of triangle using if-else\n",
    "if a == b == c:\n",
    "    print(\"Equilateral triangle\")\n",
    "elif a == b or b == c or a == c:\n",
    "    print(\"Isosceles triangle\")\n",
    "else:\n",
    "    print(\"Scalene triangle\")\n"
   ]
  },
  {
   "cell_type": "markdown",
   "id": "1d32afd0-c07c-4728-8980-e303634a1b44",
   "metadata": {},
   "source": [
    "Explanation:\n",
    "The program takes input side lengths of a triangle and uses if-else statements to determine the type of triangle (equilateral, isosceles, or scalene) based on the side lengths.\n"
   ]
  },
  {
   "cell_type": "code",
   "execution_count": null,
   "id": "c96b14e8-35f1-4190-a0bc-a8318069a90b",
   "metadata": {},
   "outputs": [],
   "source": [
    "# 36. Write a Python program to determine the day of the week based on a user-provided number using if-else.\n",
    "\n",
    "# Get input side lengths from the user\n",
    "a = int(input(\"Enter side length A: \"))\n",
    "b = int(input(\"Enter side length B: \"))\n",
    "c = int(input(\"Enter side length C: \"))\n",
    "\n",
    "# Determine the type of triangle using if-else\n",
    "if a == b == c:\n",
    "    print(\"Equilateral triangle\")\n",
    "elif a == b or b == c or a == c:\n",
    "    print(\"Isosceles triangle\")\n",
    "else:\n",
    "    print(\"Scalene triangle\")\n"
   ]
  },
  {
   "cell_type": "markdown",
   "id": "8530aff9-b0be-42fc-8f45-3667ff538a86",
   "metadata": {},
   "source": [
    "Explanation:\n",
    "The program takes input side lengths of a triangle and uses if-else statements to determine the type of triangle (equilateral, isosceles, or scalene) based on the side lengths."
   ]
  },
  {
   "cell_type": "code",
   "execution_count": null,
   "id": "18c2f2fa-bee1-4e80-ad7d-c11ad0defca3",
   "metadata": {},
   "outputs": [],
   "source": [
    "# 37. Create a Python program that checks if a given year is a leap year using both if-else and a function.\n",
    "\n",
    "# Function to check if a year is a leap year\n",
    "def is_leap_year(year):\n",
    "    if year % 4 == 0:\n",
    "        if year % 100 == 0:\n",
    "            if year % 400 == 0:\n",
    "                return True\n",
    "            else:\n",
    "                return False\n",
    "        else:\n",
    "            return True\n",
    "    else:\n",
    "        return False\n",
    "\n",
    "# Get user input for the year\n",
    "year = int(input(\"Enter a year: \"))\n",
    "\n",
    "# Check if the year is a leap year using the function and if-else\n",
    "if is_leap_year(year):\n",
    "    print(year, \"is a leap year\")\n",
    "else:\n",
    "    print(year, \"is not a leap year\")\n"
   ]
  },
  {
   "cell_type": "markdown",
   "id": "778e92e0-b84b-48df-a024-092ae098d38a",
   "metadata": {},
   "source": [
    "Explanation:\n",
    "The program defines a function is_leap_year() that checks if a year is a leap year based on the leap year rules.\n",
    "It takes user input for the year and calls the function to determine if the year is a leap year or not.\n"
   ]
  },
  {
   "cell_type": "code",
   "execution_count": null,
   "id": "04e346f4-b4ea-41fc-9308-ee63b5635339",
   "metadata": {},
   "outputs": [],
   "source": [
    "# 38. How do you use the \"assert\" statement in Python to add debugging checks within if-else blocks?\n",
    "\n",
    "# Get user input for age\n",
    "age = int(input(\"Enter age: \"))\n",
    "\n",
    "# Check if age is greater than or equal to 60 for senior citizen discount\n",
    "if age >= 60:\n",
    "    discount = 0.2  # 20% senior citizen discount\n",
    "else:\n",
    "    discount = 0\n",
    "\n",
    "# Debugging check: Assert that discount is between 0 and 1\n",
    "assert 0 <= discount <= 1, \"Discount should be between 0 and 1\"\n",
    "print(\"Discount:\", discount)\n"
   ]
  },
  {
   "cell_type": "markdown",
   "id": "d9991e6b-6181-476b-9d73-c678db64ce15",
   "metadata": {},
   "source": [
    "Explanation:\n",
    "The assert statement is used to perform debugging checks within the program.\n",
    "In this example, it checks if the calculated discount is between 0 and 1 (inclusive) and raises an error if the condition is not met."
   ]
  },
  {
   "cell_type": "code",
   "execution_count": null,
   "id": "a1389451-677d-43f2-abc7-aff5a6b4cbb3",
   "metadata": {},
   "outputs": [],
   "source": [
    "# 39. Create a Python program that determines the eligibility of a person for a senior citizen discount based on age using if-else.\n",
    "\n",
    "# Get user input for age\n",
    "age = int(input(\"Enter your age: \"))\n",
    "\n",
    "# Check eligibility for senior citizen discount using if-else\n",
    "if age >= 60:\n",
    "    print(\"Congratulations! You are eligible for a senior citizen discount.\")\n",
    "else:\n",
    "    print(\"Sorry, you are not eligible for a senior citizen discount.\")\n",
    "\n"
   ]
  },
  {
   "cell_type": "markdown",
   "id": "c645e872-1b74-4bba-9a39-a282fda0d07d",
   "metadata": {},
   "source": [
    "Explanation: \n",
    "    The program takes the user's age as input.\n",
    "It uses an if-else statement to check if the age is 60 or above.\n",
    "If the age is 60 or above, it prints a message indicating that the person is eligible for a senior citizen discount. Otherwise, it prints a message indicating that the person is not eligible for the discount.\n",
    "\n",
    "\n",
    "\n"
   ]
  },
  {
   "cell_type": "code",
   "execution_count": null,
   "id": "fb4afb79-50ad-4eaa-8024-649396bb459a",
   "metadata": {},
   "outputs": [],
   "source": [
    "# 40. Write a Python program to categorize a given character as uppercase, lowercase, or neither using if-else.\n",
    "\n",
    "# Get user input for a character\n",
    "char = input(\"Enter a character: \")\n",
    "\n",
    "# Check if the character is uppercase, lowercase, or neither using if-else\n",
    "if char.isupper():\n",
    "    print(\"Uppercase letter\")\n",
    "elif char.islower():\n",
    "    print(\"Lowercase letter\")\n",
    "else:\n",
    "    print(\"Neither uppercase nor lowercase letter\")\n"
   ]
  },
  {
   "cell_type": "markdown",
   "id": "55ec89d0-d738-4b54-8cbe-a286d8b67292",
   "metadata": {},
   "source": [
    "Explanation:\n",
    "The program uses the isupper() and islower() string methods to check if the character is uppercase or lowercase.\n",
    "It uses if-else statements to categorize the character accordingly."
   ]
  },
  {
   "cell_type": "code",
   "execution_count": null,
   "id": "c0360111-cb34-42c5-b13c-04ca241e47ef",
   "metadata": {},
   "outputs": [],
   "source": [
    "# 41. Write a Python program to determine the roots of a quadratic equation using if-else.\n",
    "\n",
    "import math\n",
    "\n",
    "# Get user input for coefficients of the quadratic equation\n",
    "a = float(input(\"Enter coefficient a: \"))\n",
    "b = float(input(\"Enter coefficient b: \"))\n",
    "c = float(input(\"Enter coefficient c: \"))\n",
    "\n",
    "# Calculate the discriminant\n",
    "discriminant = b**2 - 4*a*c\n",
    "\n",
    "# Determine the roots using if-else\n",
    "if discriminant > 0:\n",
    "    root1 = (-b + math.sqrt(discriminant)) / (2*a)\n",
    "    root2 = (-b - math.sqrt(discriminant)) / (2*a)\n",
    "    print(\"Root 1:\", root1)\n",
    "    print(\"Root 2:\", root2)\n",
    "elif discriminant == 0:\n",
    "    root = -b / (2*a)\n",
    "    print(\"Root:\", root)\n",
    "else:\n",
    "    print(\"No real roots\")\n"
   ]
  },
  {
   "cell_type": "markdown",
   "id": "1c7ce351-5e77-4e14-9ad1-764d0cedb237",
   "metadata": {},
   "source": [
    "Explanation:\n",
    "The program calculates the discriminant of the quadratic equation and uses if-else statements to determine the roots.\n",
    "If the discriminant is positive, there are two real roots. If it's zero, there is one real root. If it's negative, there are no real roots."
   ]
  },
  {
   "cell_type": "code",
   "execution_count": null,
   "id": "b42e3791-3aa4-45d6-bd1d-4e0b23151593",
   "metadata": {},
   "outputs": [],
   "source": [
    "# 42. Create a Python program that checks if a given year is a century year or not using if-else.\n",
    "\n",
    "# Get user input for the year\n",
    "year = int(input(\"Enter a year: \"))\n",
    "\n",
    "# Check if the year is a century year using if-else\n",
    "if year % 100 == 0:\n",
    "    print(year, \"is a century year\")\n",
    "else:\n",
    "    print(year, \"is not a century year\")\n"
   ]
  },
  {
   "cell_type": "markdown",
   "id": "95277f0d-792d-4f5f-828a-b65273885891",
   "metadata": {},
   "source": [
    "Explanation:\n",
    "The program checks if the input year is divisible by 100 using the modulo operator (%).\n",
    "If the year is divisible by 100, it's a century year. Otherwise, it's not."
   ]
  },
  {
   "cell_type": "code",
   "execution_count": null,
   "id": "7438d1b7-4c76-47bf-b677-99b5dc6a7fcb",
   "metadata": {},
   "outputs": [],
   "source": [
    "# 43. Write a Python program to determine if a given number is a perfect square using if-else.\n",
    "\n",
    "# Get user input for the number\n",
    "num = int(input(\"Enter a number: \"))\n",
    "\n",
    "# Check if the number is a perfect square using if-else\n",
    "if num > 0 and math.isqrt(num)**2 == num:\n",
    "    print(num, \"is a perfect square\")\n",
    "else:\n",
    "    print(num, \"is not a perfect square\")\n"
   ]
  },
  {
   "cell_type": "raw",
   "id": "0af24f24-aab9-4b75-af19-8817077b94c7",
   "metadata": {},
   "source": [
    "Explanation:\n",
    "The program checks if the input number is greater than 0 and if its square root, when squared, equals the original number.\n",
    "If both conditions are met, the number is a perfect square.\n"
   ]
  },
  {
   "cell_type": "code",
   "execution_count": null,
   "id": "bd60cd0b-8129-4fd9-9d19-1b6f936db110",
   "metadata": {},
   "outputs": [],
   "source": [
    "# 44. Explain the purpose of the \"continue\" and \"break\" statements within if-else loops.\n",
    "\n",
    "\"\"\"continue statement: It is used to skip the rest of the code inside a loop for the current iteration and move to the next iteration of the loop.\n",
    "\n",
    "Example: Skip printing even numbers in a loop.\"\"\"\n",
    "\n",
    "for num in range(1, 11):\n",
    "    if num % 2 == 0:\n",
    "        continue  # Skip even numbers\n",
    "    print(num)\n",
    "\n",
    "    \n",
    "\"\"\"break statement: It is used to exit a loop prematurely, regardless of the loop condition.\n",
    "\n",
    "Example: Stop the loop when a specific condition is met.\"\"\"\n",
    "\n",
    "for num in range(1, 11):\n",
    "    if num == 5:\n",
    "        break  # Exit the loop when num is 5\n",
    "    print(num)\n"
   ]
  },
  {
   "cell_type": "code",
   "execution_count": null,
   "id": "7abc3487-3ca7-4805-979a-ac4076965e78",
   "metadata": {},
   "outputs": [],
   "source": [
    "# 45. Create a Python program that calculates the BMI (Body Mass Index) of a person based on their weight and height using if-else.\n",
    "\n",
    "# Get user input for weight (in kilograms) and height (in meters)\n",
    "weight = float(input(\"Enter weight in kilograms: \"))\n",
    "height = float(input(\"Enter height in meters: \"))\n",
    "\n",
    "# Calculate BMI using the formula: weight / (height * height)\n",
    "bmi = weight / (height ** 2)\n",
    "\n",
    "# Determine BMI category using if-else\n",
    "if bmi < 18.5:\n",
    "    print(\"Underweight\")\n",
    "elif 18.5 <= bmi < 24.9:\n",
    "    print(\"Normal weight\")\n",
    "elif 25 <= bmi < 29.9:\n",
    "    print(\"Overweight\")\n",
    "else:\n",
    "    print(\"Obese\")\n"
   ]
  },
  {
   "cell_type": "markdown",
   "id": "0776ed5d-7c66-4300-b70e-7b56864b5d8e",
   "metadata": {},
   "source": [
    "Explanation:\n",
    "The program calculates the BMI of a person based on their weight and height.\n",
    "It then uses if-else statements to categorize the BMI into different weight categories (underweight, normal weight, overweight, or obese) according to standard BMI ranges."
   ]
  },
  {
   "cell_type": "code",
   "execution_count": null,
   "id": "6bb7d920-42d6-4363-be12-4c635c2f7045",
   "metadata": {},
   "outputs": [],
   "source": [
    "# 46. How can you use the \"filter()\" function with if-else statements to filter elements from a list?\n",
    "\n",
    "# Define a list of numbers\n",
    "numbers = [1, 2, 3, 4, 5, 6, 7, 8, 9, 10]\n",
    "\n",
    "# Use filter() to filter even numbers from the list using if-else\n",
    "even_numbers = list(filter(lambda x: x % 2 == 0, numbers))\n",
    "\n",
    "# Print the filtered even numbers\n",
    "print(\"Even numbers:\", even_numbers)\n"
   ]
  },
  {
   "cell_type": "markdown",
   "id": "7d5dda2f-f31f-4263-b284-1586271f2625",
   "metadata": {},
   "source": [
    "Explanation:\n",
    "The filter() function filters elements from the given iterable (numbers list in this case) based on the provided function (a lambda function in this example).\n",
    "The lambda function checks if a number is even (x % 2 == 0), and if true, the number is included in the result.\n",
    "if-else logic is applied implicitly within the lambda function."
   ]
  },
  {
   "cell_type": "code",
   "execution_count": null,
   "id": "3a4e3714-e04c-495e-8d9f-fe8cc45943e9",
   "metadata": {},
   "outputs": [],
   "source": [
    "# 47. Write a Python program to determine if a given number is prime or not using if-else.\n",
    "\n",
    "# Get user input for the number\n",
    "num = int(input(\"Enter a number: \"))\n",
    "\n",
    "# Check if the number is prime using if-else\n",
    "if num > 1:\n",
    "    for i in range(2, int(math.sqrt(num)) + 1):\n",
    "        if num % i == 0:\n",
    "            print(num, \"is not a prime number\")\n",
    "            break\n",
    "    else:\n",
    "        print(num, \"is a prime number\")\n",
    "else:\n",
    "    print(num, \"is not a prime number\")\n"
   ]
  },
  {
   "cell_type": "markdown",
   "id": "8d007171-4427-43ba-b968-d220d1a50de8",
   "metadata": {},
   "source": [
    "Explanation:\n",
    "The program checks if the input number is greater than 1.\n",
    "If it is, it iterates from 2 to the square root of the number and checks if the number is divisible by any of these values.\n",
    "If it's divisible, the number is not prime. If it's not divisible by any of these values, it's prime.\n",
    "If the number is less than or equal to 1, it's not prime."
   ]
  },
  {
   "cell_type": "code",
   "execution_count": 1,
   "id": "439d4e16-fa1c-4547-82ef-fd947c76c95e",
   "metadata": {},
   "outputs": [],
   "source": [
    "# Map--->>>"
   ]
  },
  {
   "cell_type": "code",
   "execution_count": 2,
   "id": "5ef39640-a096-4ca8-a491-d125a243609d",
   "metadata": {},
   "outputs": [
    {
     "name": "stdout",
     "output_type": "stream",
     "text": [
      "[1, 4, 9, 16, 25]\n"
     ]
    }
   ],
   "source": [
    "# 1. Explain the purpose of the `map()` function in Python and provide an example of how it can be used to apply a function to each element of an iterable.\n",
    "\n",
    "\"\"\" The map() function in Python applies a specified function to all items in an input list (or any other iterable). It returns an iterator, which can be converted to a list or another data structure. The basic syntax of the map() function is: \"\"\"\n",
    "\n",
    "map(function, iterable)\n"
   ]
  },
  {
   "cell_type": "code",
   "execution_count": 3,
   "id": "ca1f087d-f836-4fc0-a580-e29298292188",
   "metadata": {},
   "outputs": [
    {
     "name": "stdout",
     "output_type": "stream",
     "text": [
      "[1, 4, 9, 16, 25]\n"
     ]
    }
   ],
   "source": [
    "# 2. Write a Python program that uses the `map()` function to square each element of a list of numbers.\n",
    "\n",
    "# Using map() to square each element of a list of numbers\n",
    "numbers = [1, 2, 3, 4, 5]\n",
    "squared_numbers = list(map(lambda x: x ** 2, numbers))\n",
    "print(squared_numbers)\n"
   ]
  },
  {
   "cell_type": "markdown",
   "id": "c247cdfb-7e3c-4f41-813c-ec81030002c3",
   "metadata": {},
   "source": [
    "# 3. How does the `map()` function differ from a list comprehension in Python, and when would you choose one over the other?\n",
    "\n",
    "Explanation:\n",
    "    Use map() when you want to apply a specific function to all items in an iterable.\n",
    "Suitable for complex operations where you want to separate the function's logic from the mapping operation.\n",
    "Returns an iterator, so it's memory efficient for large datasets.\n",
    "List Comprehension:\n",
    "Use list comprehensions when the operation is simple and can be expressed in a single line.\n",
    "Generally more readable for straightforward transformations.\n",
    "Creates a new list, making it suitable when you need a list as the output."
   ]
  },
  {
   "cell_type": "code",
   "execution_count": 4,
   "id": "fad08979-dc27-4741-8d53-c5c2a40bc483",
   "metadata": {},
   "outputs": [
    {
     "name": "stdout",
     "output_type": "stream",
     "text": [
      "['ALICE', 'BOB', 'CHARLIE']\n"
     ]
    }
   ],
   "source": [
    "# 4. Create a Python program that uses the `map()` function to convert a list of names to uppercase.\n",
    "\n",
    "# Using map() to convert a list of names to uppercase\n",
    "names = [\"Alice\", \"Bob\", \"Charlie\"]\n",
    "uppercase_names = list(map(str.upper, names))\n",
    "print(uppercase_names)\n"
   ]
  },
  {
   "cell_type": "markdown",
   "id": "9e36f88b-618b-4ce7-8ca0-d5002c1bce4c",
   "metadata": {},
   "source": [
    " str.upper is applied to each name using map(), resulting in ['ALICE', 'BOB', 'CHARLIE'].\n",
    "\n"
   ]
  },
  {
   "cell_type": "code",
   "execution_count": 5,
   "id": "df5e4e01-2b37-4c6c-8db9-e6af360f1c90",
   "metadata": {},
   "outputs": [
    {
     "name": "stdout",
     "output_type": "stream",
     "text": [
      "[5, 6, 6]\n"
     ]
    }
   ],
   "source": [
    "# 5. Write a Python program that uses the `map()` function to calculate the length of each word in a list of strings.\n",
    "\n",
    "# Using map() to calculate the length of each word in a list of strings\n",
    "words = [\"apple\", \"banana\", \"cherry\"]\n",
    "word_lengths = list(map(len, words))\n",
    "print(word_lengths)\n"
   ]
  },
  {
   "cell_type": "markdown",
   "id": "02e2a5df-9773-4bf7-bf1f-33ec6b89926d",
   "metadata": {},
   "source": [
    "Explanation:\n",
    "    The len() function is applied to each word in the words list using map(), and the output is [5, 6, 6]."
   ]
  },
  {
   "cell_type": "code",
   "execution_count": 6,
   "id": "3c0a6468-5ba6-4410-9eb7-57fcfe9d2dc5",
   "metadata": {},
   "outputs": [
    {
     "name": "stdout",
     "output_type": "stream",
     "text": [
      "[77.0, 86.0, 95.0, 68.0]\n"
     ]
    }
   ],
   "source": [
    "# 6. How can you use the `map()` function to apply a custom function to elements of multiple lists simultaneously in Python?\n",
    "\n",
    "\"\"\" Using map() to Apply a Custom Function to Elements of Multiple Lists Simultaneously:\n",
    "To use the map() function with multiple lists and a custom function, you can define a function that takes multiple arguments and then pass those lists as additional arguments to the map() function. Here's how you can do it: \"\"\"\n",
    "\n",
    "\n"
   ]
  },
  {
   "cell_type": "code",
   "execution_count": 8,
   "id": "39c2f322-1b71-4a83-8425-50652e9942b1",
   "metadata": {},
   "outputs": [
    {
     "name": "stdout",
     "output_type": "stream",
     "text": [
      "[77.0, 86.0, 95.0, 68.0]\n"
     ]
    }
   ],
   "source": [
    "# 7. Create a Python program that uses `map()` to convert a list of temperatures from Celsius to Fahrenheit.\n",
    "\n",
    "def custom_function(celsius_temp):\n",
    "    # Custom function to convert Celsius to Fahrenheit\n",
    "    return (9/5) * celsius_temp + 32\n",
    "\n",
    "# List of temperatures in Celsius\n",
    "celsius_temperatures = [25, 30, 35, 20]\n",
    "\n",
    "# Using map() to apply the custom function to elements of the celsius_temperatures list\n",
    "fahrenheit_temperatures = list(map(custom_function, celsius_temperatures))\n",
    "\n",
    "print(fahrenheit_temperatures)\n"
   ]
  },
  {
   "cell_type": "markdown",
   "id": "6fb54a20-c706-439e-b76a-7f91f65b10cf",
   "metadata": {},
   "source": [
    "Explanation:\n",
    "     The custom_function() takes a temperature in Celsius as input and converts it to Fahrenheit. The map() function applies this function to each element of the celsius_temperatures list, resulting in a list of temperatures in Fahrenheit."
   ]
  },
  {
   "cell_type": "code",
   "execution_count": 7,
   "id": "c33493d6-a21a-44d8-beca-e58db5282408",
   "metadata": {},
   "outputs": [
    {
     "name": "stdout",
     "output_type": "stream",
     "text": [
      "[3, 3, 2, 5]\n"
     ]
    }
   ],
   "source": [
    "# 8. \n",
    "\n",
    "\n",
    "float_numbers = [3.14, 2.718, 1.618, 4.669]\n",
    "\n",
    "# Using map() to round each element of the float_numbers list to the nearest integer\n",
    "rounded_numbers = list(map(round, float_numbers))\n",
    "\n",
    "print(rounded_numbers)\n"
   ]
  },
  {
   "cell_type": "markdown",
   "id": "d0cdfd63-a081-40fc-925b-63d6a1486e7a",
   "metadata": {},
   "source": [
    "Explanation:\n",
    "    The round() function is applied to each element of the float_numbers list using map(). The output is a list of integers rounded from the floating-point numbers, resulting in [3, 3, 2, 5]."
   ]
  },
  {
   "cell_type": "code",
   "execution_count": 9,
   "id": "50c676e8-61c7-400d-b407-270554b72cf3",
   "metadata": {},
   "outputs": [
    {
     "name": "stdout",
     "output_type": "stream",
     "text": [
      "[3, 3, 2, 5]\n"
     ]
    }
   ],
   "source": [
    "# 8. Write a Python program that uses the `map()` function to round each element of a list of floating-point numbers to the nearest integer.\n",
    "\n",
    "\n",
    "# List of floating-point numbers\n",
    "float_numbers = [3.14, 2.718, 1.618, 4.669]\n",
    "\n",
    "# Using map() to round each element of the float_numbers list to the nearest integer\n",
    "rounded_numbers = list(map(round, float_numbers))\n",
    "\n",
    "print(rounded_numbers)\n"
   ]
  },
  {
   "cell_type": "markdown",
   "id": "21da343c-44bd-4b93-a3b2-8186d03fcbac",
   "metadata": {},
   "source": [
    "Explanation:\n",
    "    The round() function is applied to each element of the float_numbers list using map(). The output is a list of integers rounded from the floating-point numbers, resulting in [3, 3, 2, 5]."
   ]
  },
  {
   "cell_type": "code",
   "execution_count": 10,
   "id": "cf58dc41-a90d-486a-8abf-6c463c2a9004",
   "metadata": {},
   "outputs": [],
   "source": [
    "# Reduce :-\n"
   ]
  },
  {
   "cell_type": "code",
   "execution_count": 12,
   "id": "2013d986-cc79-4719-a610-822904011e0a",
   "metadata": {},
   "outputs": [
    {
     "data": {
      "text/plain": [
       "' reduce() Function in Python:\\nThe reduce() function is part of the functools module in Python. To use it, you need to import the functools module first. The reduce() function applies a given function to the items of an iterable (e.g., list) and returns a single accumulated result.'"
      ]
     },
     "execution_count": 12,
     "metadata": {},
     "output_type": "execute_result"
    }
   ],
   "source": [
    "# 1. What is the `reduce()` function in Python, and what module should you import to use it? Provide an example of its basic usage.\n",
    "\n",
    "\"\"\" reduce() Function in Python:\n",
    "The reduce() function is part of the functools module in Python. To use it, you need to import the functools module first. The reduce() function applies a given function to the items of an iterable (e.g., list) and returns a single accumulated result.\"\"\""
   ]
  },
  {
   "cell_type": "code",
   "execution_count": 13,
   "id": "cc565f2b-d0a7-4e10-bb0c-8373317b32a6",
   "metadata": {},
   "outputs": [
    {
     "name": "stdout",
     "output_type": "stream",
     "text": [
      "Product: 120\n"
     ]
    }
   ],
   "source": [
    "# 2. Write a Python program that uses the `reduce()` function to find the product of all elements in a list.\n",
    "\n",
    "from functools import reduce\n",
    "\n",
    "# List of numbers\n",
    "numbers = [1, 2, 3, 4, 5]\n",
    "\n",
    "# Using reduce() to find the product of all elements in the list\n",
    "product = reduce(lambda x, y: x * y, numbers)\n",
    "print(\"Product:\", product)\n"
   ]
  },
  {
   "cell_type": "markdown",
   "id": "8f28da6f-2b11-4b98-9da9-14b5323cd27d",
   "metadata": {},
   "source": [
    "Explanation:\n",
    "    the reduce() function multiplies elements of the numbers list together, resulting in the product 120.\n",
    "\n"
   ]
  },
  {
   "cell_type": "code",
   "execution_count": 14,
   "id": "63f7049c-29a9-400e-adbe-3c7f55d25996",
   "metadata": {},
   "outputs": [
    {
     "name": "stdout",
     "output_type": "stream",
     "text": [
      "Maximum Number: 12\n"
     ]
    }
   ],
   "source": [
    "# 3. Create a Python program that uses `reduce()` to find the maximum element in a list of numbers.\n",
    "\n",
    "from functools import reduce\n",
    "\n",
    "# List of numbers\n",
    "numbers = [8, 3, 12, 5, 9]\n",
    "\n",
    "# Using reduce() to find the maximum element in the list\n",
    "max_number = reduce(lambda x, y: x if x > y else y, numbers)\n",
    "print(\"Maximum Number:\", max_number)\n"
   ]
  },
  {
   "cell_type": "markdown",
   "id": "3a5cf52e-6c8f-4f8a-a3f4-f6bf6904435d",
   "metadata": {},
   "source": [
    "Explanation:\n",
    "    the reduce() function finds the maximum element in the numbers list, resulting in 12."
   ]
  },
  {
   "cell_type": "code",
   "execution_count": 15,
   "id": "476335c1-dd6c-4630-8f32-94cb4043f54c",
   "metadata": {},
   "outputs": [
    {
     "name": "stdout",
     "output_type": "stream",
     "text": [
      "Concatenated String: Hello, World!\n"
     ]
    }
   ],
   "source": [
    "# 4. How can you use the `reduce()` function to concatenate a list of strings into a single string?\n",
    "\n",
    "from functools import reduce\n",
    "\n",
    "# List of strings\n",
    "strings = [\"Hello\", \", \", \"World\", \"!\"]\n",
    "\n",
    "# Using reduce() to concatenate the list of strings into a single string\n",
    "concatenated_string = reduce(lambda x, y: x + y, strings)\n",
    "print(\"Concatenated String:\", concatenated_string)\n"
   ]
  },
  {
   "cell_type": "markdown",
   "id": "a6ca2737-f41d-486f-8ba0-f06d1de08990",
   "metadata": {},
   "source": [
    "Explanation:\n",
    "     reduce() concatenates the list of strings into a single string: \"Hello, World!\""
   ]
  },
  {
   "cell_type": "code",
   "execution_count": 16,
   "id": "6adfb45f-defe-46c8-965b-8b358a2f616a",
   "metadata": {},
   "outputs": [
    {
     "name": "stdout",
     "output_type": "stream",
     "text": [
      "Factorial of 5 : 120\n"
     ]
    }
   ],
   "source": [
    "# 5. Write a Python program that calculates the factorial of a number using the `reduce()` function.\n",
    "\n",
    "from functools import reduce\n",
    "\n",
    "# Function to calculate factorial\n",
    "def factorial(n, x):\n",
    "    return n * x\n",
    "\n",
    "# Number for which factorial needs to be calculated\n",
    "number = 5\n",
    "\n",
    "# Using reduce() to calculate factorial\n",
    "factorial_result = reduce(factorial, range(1, number+1))\n",
    "print(\"Factorial of\", number, \":\", factorial_result)\n"
   ]
  },
  {
   "cell_type": "code",
   "execution_count": 17,
   "id": "3bee0720-76e8-492d-94dd-6e71d9485bb8",
   "metadata": {},
   "outputs": [
    {
     "name": "stdout",
     "output_type": "stream",
     "text": [
      "GCD of the numbers: 12\n"
     ]
    }
   ],
   "source": [
    "# 6. Create a Python program that uses `reduce()` to find the GCD (Greatest Common Divisor) of a list of numbers.\n",
    "\n",
    "\n",
    "from functools import reduce\n",
    "import math\n",
    "\n",
    "# List of numbers\n",
    "numbers = [24, 36, 48, 60]\n",
    "\n",
    "# Function to find GCD using math.gcd\n",
    "gcd = reduce(math.gcd, numbers)\n",
    "print(\"GCD of the numbers:\", gcd)\n"
   ]
  },
  {
   "cell_type": "markdown",
   "id": "343f5d37-2cff-41bd-9e0d-607d7bc94f53",
   "metadata": {},
   "source": [
    "Explanation:\n",
    "    reduce() uses the math.gcd() function to find the Greatest Common Divisor (GCD) of the numbers in the list, resulting in 12.\n",
    "\n"
   ]
  },
  {
   "cell_type": "code",
   "execution_count": 18,
   "id": "b49f33b9-a793-4ed5-a572-11f0cc9817fc",
   "metadata": {},
   "outputs": [
    {
     "name": "stdout",
     "output_type": "stream",
     "text": [
      "Sum of digits of 12345 : 15\n"
     ]
    }
   ],
   "source": [
    "# 7. Write a Python program that uses the `reduce()` function to find the sum of the digits of a given number.\n",
    "\n",
    "\n",
    "from functools import reduce\n",
    "\n",
    "# Function to sum the digits of a number\n",
    "def sum_digits(x, y):\n",
    "    return int(x) + int(y)\n",
    "\n",
    "# Input number\n",
    "number = 12345\n",
    "\n",
    "# Using reduce() to find the sum of digits\n",
    "digit_sum = reduce(sum_digits, str(number))\n",
    "print(\"Sum of digits of\", number, \":\", digit_sum)\n",
    "\n"
   ]
  },
  {
   "cell_type": "code",
   "execution_count": 19,
   "id": "755a4742-bb30-4420-a8ea-3eb10029a6bb",
   "metadata": {},
   "outputs": [],
   "source": [
    "# Filter-->>\n"
   ]
  },
  {
   "cell_type": "code",
   "execution_count": 20,
   "id": "005459a5-c6f7-4cd4-bc83-3dab61bc8197",
   "metadata": {},
   "outputs": [
    {
     "data": {
      "text/plain": [
       "' Purpose of the filter() Function in Python:\\nThe filter() function in Python is used to filter elements from an iterable (such as a list) based on a specific condition. It takes two arguments: a function that defines the filtering condition and an iterable from which elements are filtered. The function returns an iterator of the elements that satisfy the given condition. '"
      ]
     },
     "execution_count": 20,
     "metadata": {},
     "output_type": "execute_result"
    }
   ],
   "source": [
    "# 1.Explain the purpose of the `filter()` function in Python and provide an example of how it can be used to filter elements from an iterable.\n",
    "\n",
    "\"\"\" Purpose of the filter() Function in Python:\n",
    "The filter() function in Python is used to filter elements from an iterable (such as a list) based on a specific condition. It takes two arguments: a function that defines the filtering condition and an iterable from which elements are filtered. The function returns an iterator of the elements that satisfy the given condition. \"\"\"\n",
    "\n"
   ]
  },
  {
   "cell_type": "code",
   "execution_count": 21,
   "id": "756fb12e-f2fc-4302-a121-6d56deb3d4fa",
   "metadata": {},
   "outputs": [
    {
     "name": "stdout",
     "output_type": "stream",
     "text": [
      "Even Numbers: [2, 4, 6, 8, 10]\n"
     ]
    }
   ],
   "source": [
    "# 2. Write a Python program that uses the `filter()` function to select even numbers from a list of integers.\n",
    "\n",
    "# List of integers\n",
    "numbers = [1, 2, 3, 4, 5, 6, 7, 8, 9, 10]\n",
    "\n",
    "# Using filter() to select even numbers\n",
    "even_numbers = list(filter(lambda x: x % 2 == 0, numbers))\n",
    "print(\"Even Numbers:\", even_numbers)\n"
   ]
  },
  {
   "cell_type": "markdown",
   "id": "be4cdc68-6915-44e4-8329-dbfa2db14dab",
   "metadata": {},
   "source": [
    "Explanation:\n",
    "    the filter() function is used to filter even numbers from the given list of integers. The lambda x: x % 2 == 0 function checks the divisibility of each number by 2. The filter() function then evaluates this lambda function for each element in the list. Numbers that satisfy the condition (i.e., they are even) are included in the result. Finally, the filtered even numbers are returned as a new list."
   ]
  },
  {
   "cell_type": "code",
   "execution_count": 22,
   "id": "5859976f-01a6-4245-9498-7f649114c196",
   "metadata": {},
   "outputs": [
    {
     "name": "stdout",
     "output_type": "stream",
     "text": [
      "Names starting with 'D': ['David']\n"
     ]
    }
   ],
   "source": [
    "# 3. Create a Python program that uses the `filter()` function to select names that start with a specific letter from a list of strings.\n",
    "\n",
    "# List of strings (names)\n",
    "names = [\"Alice\", \"Bob\", \"Charlie\", \"David\", \"Eva\"]\n",
    "\n",
    "# Using filter() to select names starting with 'D'\n",
    "selected_names = list(filter(lambda x: x.startswith('D'), names))\n",
    "print(\"Names starting with 'D':\", selected_names)\n"
   ]
  },
  {
   "cell_type": "markdown",
   "id": "293dea46-d05e-4d47-a44d-4cc2a25ea258",
   "metadata": {},
   "source": [
    "Explanation:\n",
    "    The filter() function is employed here to filter names from a list of strings based on a specific starting letter. The lambda function lambda x: x.startswith('D') checks if each name starts with the letter 'D'. The filter() function applies this lambda function to each string in the list. Names that meet the condition (they start with 'D') are retained in the result. The filtered names are then returned as a new list."
   ]
  },
  {
   "cell_type": "code",
   "execution_count": 23,
   "id": "07930154-5ebe-4411-85cd-7406d2f6b6c2",
   "metadata": {},
   "outputs": [
    {
     "name": "stdout",
     "output_type": "stream",
     "text": [
      "Prime Numbers: [2, 3, 5, 7]\n"
     ]
    }
   ],
   "source": [
    "# 4. Write a Python program that uses the `filter()` function to select prime numbers from a list of integers.\n",
    "\n",
    "\n",
    "# List of integers\n",
    "numbers = [2, 3, 4, 5, 6, 7, 8, 9, 10]\n",
    "\n",
    "# Function to check if a number is prime\n",
    "def is_prime(num):\n",
    "    if num <= 1:\n",
    "        return False\n",
    "    for i in range(2, int(num**0.5) + 1):\n",
    "        if num % i == 0:\n",
    "            return False\n",
    "    return True\n",
    "\n",
    "# Using filter() to select prime numbers\n",
    "prime_numbers = list(filter(is_prime, numbers))\n",
    "print(\"Prime Numbers:\", prime_numbers)\n"
   ]
  },
  {
   "cell_type": "markdown",
   "id": "feec4b3c-121a-4c9f-a896-5328f7de27cb",
   "metadata": {},
   "source": [
    "Explanation:\n",
    "    the filter() function is used to filter prime numbers from the given list of integers. The is_prime() function (not shown in the explanation) is used as the filtering criterion. This function checks whether a number is prime or not. The filter() function applies this is_prime() function to each element in the list. Numbers that are prime (satisfy the condition) are included in the result. The filtered prime numbers are then returned as a new list."
   ]
  },
  {
   "cell_type": "code",
   "execution_count": 24,
   "id": "914b3ee8-c3c1-4433-b35b-246b04321ae2",
   "metadata": {},
   "outputs": [
    {
     "name": "stdout",
     "output_type": "stream",
     "text": [
      "Filtered Values: [1, 3, 5, 7]\n"
     ]
    }
   ],
   "source": [
    "# 5. How can you use the `filter()` function to remove None values from a list in Python?\n",
    "\n",
    "\n",
    "# List with None values\n",
    "values = [1, None, 3, None, 5, None, 7]\n",
    "\n",
    "# Using filter() to remove None values\n",
    "filtered_values = list(filter(lambda x: x is not None, values))\n",
    "print(\"Filtered Values:\", filtered_values)\n"
   ]
  },
  {
   "cell_type": "markdown",
   "id": "884d92ca-0737-4a86-ac72-11da76ac4a61",
   "metadata": {},
   "source": [
    "Explanation:\n",
    "    The filter() function is used to remove None values from a list. The lambda function lambda x: x is not None checks if each element is not equal to None. The filter() function applies this lambda function to each element in the list. Elements that are not None (satisfy the condition) are retained in the result. The filtered elements are then returned as a new list."
   ]
  },
  {
   "cell_type": "code",
   "execution_count": 25,
   "id": "ea9bc71e-58da-4f2b-972c-9062ce2869bd",
   "metadata": {},
   "outputs": [
    {
     "name": "stdout",
     "output_type": "stream",
     "text": [
      "Words longer than 5 characters: ['banana', 'orange']\n"
     ]
    }
   ],
   "source": [
    "# 6. Create a Python program that uses `filter()` to select words longer than a certain length from a list of strings.\n",
    "\n",
    "# List of strings (words)\n",
    "words = [\"apple\", \"banana\", \"kiwi\", \"orange\", \"grape\"]\n",
    "\n",
    "# Using filter() to select words longer than 5 characters\n",
    "selected_words = list(filter(lambda x: len(x) > 5, words))\n",
    "print(\"Words longer than 5 characters:\", selected_words)\n"
   ]
  },
  {
   "cell_type": "markdown",
   "id": "bb110573-a5d1-4d15-b75a-51c60c929170",
   "metadata": {},
   "source": [
    "Explanation:\n",
    "    the filter() function is employed to filter words from a list of strings based on their length. The lambda function lambda x: len(x) > 5 checks if the length of each word is greater than 5 characters. The filter() function applies this lambda function to each string in the list. Words that meet the condition (have a length greater than 5) are included in the result. The filtered words are then returned as a new list."
   ]
  },
  {
   "cell_type": "code",
   "execution_count": 26,
   "id": "b078b7a1-75c2-4c1d-82fc-ded7ce3b56e7",
   "metadata": {},
   "outputs": [
    {
     "name": "stdout",
     "output_type": "stream",
     "text": [
      "Values greater than 20 : [25, 30, 42]\n"
     ]
    }
   ],
   "source": [
    "# 7. Write a Python program that uses the `filter()` function to select elements greater than a specified threshold from a list of values.\n",
    "\n",
    "\n",
    "# List of values\n",
    "values = [10, 25, 8, 30, 15, 7, 42]\n",
    "\n",
    "# Threshold value\n",
    "threshold = 20\n",
    "\n",
    "# Using filter() to select elements greater than the threshold\n",
    "filtered_values = list(filter(lambda x: x > threshold, values))\n",
    "\n",
    "# Printing the filtered values\n",
    "print(\"Values greater than\", threshold, \":\", filtered_values)\n"
   ]
  },
  {
   "cell_type": "markdown",
   "id": "3def165b-57a8-4778-9401-e6b3ae689fef",
   "metadata": {},
   "source": [
    "Explanation:\n",
    "    , the filter() function filters the values in the values list based on the lambda function lambda x: x > threshold, which checks if each element is greater than the specified threshold. The filtered values are then printed, giving you the elements greater than the specified threshold."
   ]
  },
  {
   "cell_type": "code",
   "execution_count": 27,
   "id": "6a681aab-a875-4a3c-b23d-c7b79813a2bc",
   "metadata": {},
   "outputs": [],
   "source": [
    "# Recursion:-\n"
   ]
  },
  {
   "cell_type": "code",
   "execution_count": 28,
   "id": "ab1cc385-856a-49e6-8509-d3420ad41f6b",
   "metadata": {},
   "outputs": [
    {
     "data": {
      "text/plain": [
       "' Recursion is a programming technique where a function calls itself in order to solve a problem. In recursive functions, the problem is divided into smaller subproblems until a base case is reached, at which point the function stops calling itself and starts returning values back through the chain of function calls.\\n\\nRecursion differs from iteration in that iteration uses loops to repeat a set of instructions until a specific condition is met, while recursion breaks down a problem into smaller subproblems and solves them recursively. '"
      ]
     },
     "execution_count": 28,
     "metadata": {},
     "output_type": "execute_result"
    }
   ],
   "source": [
    "# 1. Explain the concept of recursion in Python. How does it differ from iteration?\n",
    "\n",
    "\"\"\" Recursion is a programming technique where a function calls itself in order to solve a problem. In recursive functions, the problem is divided into smaller subproblems until a base case is reached, at which point the function stops calling itself and starts returning values back through the chain of function calls.\n",
    "\n",
    "Recursion differs from iteration in that iteration uses loops to repeat a set of instructions until a specific condition is met, while recursion breaks down a problem into smaller subproblems and solves them recursively. \"\"\""
   ]
  },
  {
   "cell_type": "code",
   "execution_count": 29,
   "id": "0ae027c4-bf3f-45a5-847b-61759f7e3e6a",
   "metadata": {},
   "outputs": [
    {
     "name": "stdout",
     "output_type": "stream",
     "text": [
      "Factorial of 5 is 120\n"
     ]
    }
   ],
   "source": [
    "# 2. Write a Python program to calculate the factorial of a number using recursion.\n",
    "\n",
    "def factorial(n):\n",
    "    if n == 0:\n",
    "        return 1\n",
    "    else:\n",
    "        return n * factorial(n - 1)\n",
    "\n",
    "# Example usage\n",
    "number = 5\n",
    "print(\"Factorial of\", number, \"is\", factorial(number))\n"
   ]
  },
  {
   "cell_type": "markdown",
   "id": "3f287669-177d-4e2d-be64-0d02b3bc0519",
   "metadata": {},
   "source": [
    "Explanation:\n",
    "In the above code, the factorial() function calculates the factorial of a number n using recursion. The base case is when n equals 0, the function returns 1. Otherwise, it multiplies the current number n with the factorial of n-1."
   ]
  },
  {
   "cell_type": "code",
   "execution_count": 30,
   "id": "2fbb862f-0bd2-4565-add3-0228d9fd9d3c",
   "metadata": {},
   "outputs": [
    {
     "name": "stdout",
     "output_type": "stream",
     "text": [
      "Fibonacci number at position 6 is 8\n"
     ]
    }
   ],
   "source": [
    "# 3. Create a recursive Python function to find the nth Fibonacci number.\n",
    "\n",
    "\n",
    "def fibonacci(n):\n",
    "    if n <= 1:\n",
    "        return n\n",
    "    else:\n",
    "        return fibonacci(n - 1) + fibonacci(n - 2)\n",
    "\n",
    "# Example usage\n",
    "nth_term = 6\n",
    "print(\"Fibonacci number at position\", nth_term, \"is\", fibonacci(nth_term))\n"
   ]
  },
  {
   "cell_type": "markdown",
   "id": "4acd34ad-be7f-4dc7-a9e2-efc32d66cbb0",
   "metadata": {},
   "source": [
    "Explanation:\n",
    "The fibonacci() function calculates the nth Fibonacci number using recursion. The base case is when n is 0 or 1, the function returns n. Otherwise, it calculates the Fibonacci number by recursively adding the last two Fibonacci numbers."
   ]
  },
  {
   "cell_type": "code",
   "execution_count": 31,
   "id": "6acaadcc-9f76-4b58-be65-a1d3689dfd4f",
   "metadata": {},
   "outputs": [
    {
     "name": "stdout",
     "output_type": "stream",
     "text": [
      "Sum of list elements: 15\n"
     ]
    }
   ],
   "source": [
    "# 4. Write a recursive Python function to calculate the sum of all elements in a list.\n",
    "\n",
    "\n",
    "def sum_list_recursive(arr):\n",
    "    if not arr:\n",
    "        return 0\n",
    "    else:\n",
    "        return arr[0] + sum_list_recursive(arr[1:])\n",
    "\n",
    "# Example usage\n",
    "numbers = [1, 2, 3, 4, 5]\n",
    "print(\"Sum of list elements:\", sum_list_recursive(numbers))\n"
   ]
  },
  {
   "cell_type": "markdown",
   "id": "9f386b62-c4b7-48af-980e-50a371f1aea6",
   "metadata": {},
   "source": [
    "Explanation:\n",
    "The sum_list_recursive() function calculates the sum of all elements in a list using recursion. The base case is an empty list, in which case the function returns 0. Otherwise, it adds the first element of the list with the sum of the rest of the list obtained by recursive calls."
   ]
  },
  {
   "cell_type": "code",
   "execution_count": 32,
   "id": "78369e25-459c-438c-ad7d-89f39f610832",
   "metadata": {},
   "outputs": [
    {
     "data": {
      "text/plain": [
       "' To prevent a recursive function from running indefinitely, you must ensure that there is a termination condition (base case) that will eventually be met. If the base case is never met, the function will keep calling itself infinitely and cause a stack overflow error. '"
      ]
     },
     "execution_count": 32,
     "metadata": {},
     "output_type": "execute_result"
    }
   ],
   "source": [
    "# 5. How can you prevent a recursive function from running indefinitely, causing a stack overflow error?\n",
    "\n",
    "\n",
    "\"\"\" To prevent a recursive function from running indefinitely, you must ensure that there is a termination condition (base case) that will eventually be met. If the base case is never met, the function will keep calling itself infinitely and cause a stack overflow error. \"\"\""
   ]
  },
  {
   "cell_type": "code",
   "execution_count": 33,
   "id": "2ec30806-0a21-4844-9cc5-b1694fb89f18",
   "metadata": {},
   "outputs": [
    {
     "name": "stdout",
     "output_type": "stream",
     "text": [
      "GCD of 48 and 18 is 6\n"
     ]
    }
   ],
   "source": [
    "# 6. Create a recursive Python function to find the greatest common divisor (GCD) of two numbers using the Euclidean algorithm.\n",
    "\n",
    "\n",
    "def gcd(a, b):\n",
    "    if b == 0:\n",
    "        return a\n",
    "    else:\n",
    "        return gcd(b, a % b)\n",
    "\n",
    "# Example usage\n",
    "num1, num2 = 48, 18\n",
    "print(\"GCD of\", num1, \"and\", num2, \"is\", gcd(num1, num2))\n"
   ]
  },
  {
   "cell_type": "markdown",
   "id": "d8feab96-4830-4317-8033-331f08cfc66f",
   "metadata": {},
   "source": [
    "Explanation:\n",
    "The gcd() function calculates the Greatest Common Divisor of two numbers a and b using recursion. The base case is when b becomes 0; in this case, the function returns a. Otherwise, it calls itself with b and a % b."
   ]
  },
  {
   "cell_type": "code",
   "execution_count": 34,
   "id": "7caf351f-bf62-4a10-826f-6c609e729af7",
   "metadata": {},
   "outputs": [
    {
     "name": "stdout",
     "output_type": "stream",
     "text": [
      "Reversed string: olleh\n"
     ]
    }
   ],
   "source": [
    "# 7. Write a recursive Python function to reverse a string.\n",
    "\n",
    "\n",
    "def reverse_string(s):\n",
    "    if len(s) == 0:\n",
    "        return s\n",
    "    else:\n",
    "        return reverse_string(s[1:]) + s[0]\n",
    "\n",
    "# Example usage\n",
    "input_string = \"hello\"\n",
    "print(\"Reversed string:\", reverse_string(input_string))\n"
   ]
  },
  {
   "cell_type": "markdown",
   "id": "e5635f59-6a67-4b94-99c8-966d79b4c79b",
   "metadata": {},
   "source": [
    "Explanation:\n",
    "The reverse_string() function reverses a string using recursion. It takes the first character of the input string and concatenates it with the reversed version of the rest of the string obtained by recursive calls.\n",
    "\n"
   ]
  },
  {
   "cell_type": "code",
   "execution_count": 35,
   "id": "356cef68-55ef-44b4-99ae-29bc49d666ce",
   "metadata": {},
   "outputs": [
    {
     "name": "stdout",
     "output_type": "stream",
     "text": [
      "2 raised to the power 3 is 8\n"
     ]
    }
   ],
   "source": [
    "# 8. Create a recursive Python function to calculate the power of a number (x^n).\n",
    "\n",
    "\n",
    "def power(x, n):\n",
    "    if n == 0:\n",
    "        return 1\n",
    "    else:\n",
    "        return x * power(x, n - 1)\n",
    "\n",
    "# Example usage\n",
    "base, exponent = 2, 3\n",
    "print(base, \"raised to the power\", exponent, \"is\", power(base, exponent))\n"
   ]
  },
  {
   "cell_type": "markdown",
   "id": "15f8a3fc-247c-48b0-b3e4-69ecb289fa89",
   "metadata": {},
   "source": [
    "Explanation:\n",
    "The power() function calculates the power of a number x to the exponent n using recursion. The base case is when n is 0; in this case, the function returns 1. Otherwise, it multiplies x with the result of recursive calls with n-1.\n",
    "\n"
   ]
  },
  {
   "cell_type": "code",
   "execution_count": 36,
   "id": "4f16eb44-fa21-4efc-837f-3a01d1a00637",
   "metadata": {},
   "outputs": [
    {
     "name": "stdout",
     "output_type": "stream",
     "text": [
      "Permutations of abc are ['abc', 'acb', 'bac', 'bca', 'cab', 'cba']\n"
     ]
    }
   ],
   "source": [
    "# 9. Write a recursive Python function to find all permutations of a given string.\n",
    "\n",
    "\n",
    "def permutations(s):\n",
    "    if len(s) <= 1:\n",
    "        return [s]\n",
    "    else:\n",
    "        perms = []\n",
    "        for i, c in enumerate(s):\n",
    "            for perm in permutations(s[:i] + s[i+1:]):\n",
    "                perms.append(c + perm)\n",
    "        return perms\n",
    "\n",
    "# Example usage\n",
    "input_string = \"abc\"\n",
    "print(\"Permutations of\", input_string, \"are\", permutations(input_string))\n"
   ]
  },
  {
   "cell_type": "markdown",
   "id": "9d029698-8b89-43c4-a759-f8dd4e10f3fe",
   "metadata": {},
   "source": [
    "Explanation:\n",
    "The permutations() function generates all permutations of a given string using recursion. It iterates through each character of the input string and recursively generates permutations of the remaining characters. The base case is when the length of the string is 1 or less, in which case the function returns the string itself.\n",
    "\n"
   ]
  },
  {
   "cell_type": "code",
   "execution_count": 37,
   "id": "70a6acac-267e-4696-933b-0df68dc002b8",
   "metadata": {},
   "outputs": [
    {
     "name": "stdout",
     "output_type": "stream",
     "text": [
      "Is radar a palindrome? True\n"
     ]
    }
   ],
   "source": [
    "# 10. Write a recursive Python function to check if a string is a palindrome.\n",
    "\n",
    "\n",
    "def is_palindrome(s):\n",
    "    if len(s) <= 1:\n",
    "        return True\n",
    "    else:\n",
    "        if s[0] != s[-1]:\n",
    "            return False\n",
    "        else:\n",
    "            return is_palindrome(s[1:-1])\n",
    "\n",
    "# Example usage\n",
    "input_string = \"radar\"\n",
    "print(\"Is\", input_string, \"a palindrome?\", is_palindrome(input_string))\n"
   ]
  },
  {
   "cell_type": "markdown",
   "id": "01d041c2-a70a-4519-b8a2-10f1113940f1",
   "metadata": {},
   "source": [
    "Explanation:\n",
    "The is_palindrome() function checks if a given string is a palindrome using recursion. It compares the first and last characters of the string. If they are not equal, the string is not a palindrome. Otherwise, the function calls itself with the substring excluding the first and last characters."
   ]
  },
  {
   "cell_type": "code",
   "execution_count": 40,
   "id": "eeb52139-e4b2-449b-b6a5-cc6fba6b6e34",
   "metadata": {},
   "outputs": [
    {
     "name": "stdout",
     "output_type": "stream",
     "text": [
      "Combinations of [1, 2, 3] with length 2 are [[2, 1], [3, 1], [3, 2]]\n"
     ]
    }
   ],
   "source": [
    "# 11. Create a recursive Python function to generate all possible combinations of a list of elements.\n",
    "\n",
    "\n",
    "def combinations(arr, k):\n",
    "    if k == 0:\n",
    "        return [[]]\n",
    "    if len(arr) == 0:\n",
    "        return []\n",
    "    head, tail = arr[0], arr[1:]\n",
    "    without_head = combinations(tail, k)\n",
    "    with_head = combinations(tail, k - 1)\n",
    "    for item in with_head:\n",
    "        item.append(head)\n",
    "    return with_head + without_head\n",
    "\n",
    "# Example usage\n",
    "elements = [1, 2, 3]\n",
    "k = 2\n",
    "print(\"Combinations of\", elements, \"with length\", k, \"are\", combinations(elements, k))\n",
    "\n"
   ]
  },
  {
   "cell_type": "markdown",
   "id": "e22b556c-9347-4421-9717-057a0fedf299",
   "metadata": {},
   "source": [
    "Explanation:\n",
    "The combinations() function generates all possible combinations of a list arr with length k using recursion. It divides the problem into two subproblems: one with the first element included and one without the first element. It recursively generates combinations for both subproblems and combines the results."
   ]
  },
  {
   "cell_type": "code",
   "execution_count": 41,
   "id": "0e980172-548a-4af6-84fc-f3543b1679da",
   "metadata": {},
   "outputs": [],
   "source": [
    "# Basics of Functions--->>\n"
   ]
  },
  {
   "cell_type": "code",
   "execution_count": 42,
   "id": "79c3cbce-f034-4efe-8970-41e19fc6b3d8",
   "metadata": {},
   "outputs": [
    {
     "data": {
      "text/plain": [
       "' In Python, a function is a reusable block of code that performs a specific task or a set of tasks. Functions are used to organize code into modular pieces, making it easier to read, understand, and maintain. Functions improve code reusability, as you can call a function multiple times from different parts of your program without having to rewrite the same code. '"
      ]
     },
     "execution_count": 42,
     "metadata": {},
     "output_type": "execute_result"
    }
   ],
   "source": [
    "# 1. What is a function in Python, and why is it used?\n",
    "\n",
    "\"\"\" In Python, a function is a reusable block of code that performs a specific task or a set of tasks. Functions are used to organize code into modular pieces, making it easier to read, understand, and maintain. Functions improve code reusability, as you can call a function multiple times from different parts of your program without having to rewrite the same code. \"\"\""
   ]
  },
  {
   "cell_type": "code",
   "execution_count": 43,
   "id": "3658ede9-fe37-4623-bd01-053f723c7608",
   "metadata": {},
   "outputs": [
    {
     "data": {
      "text/plain": [
       "' In Python, you can define a function using the def keyword, followed by the function name, a pair of parentheses (), and a colon :. The function body is indented and contains the code to be executed when the function is called. '"
      ]
     },
     "execution_count": 43,
     "metadata": {},
     "output_type": "execute_result"
    }
   ],
   "source": [
    "# 2. How do you define a function in Python? Provide an example.\n",
    "\n",
    "\n",
    "\"\"\" In Python, you can define a function using the def keyword, followed by the function name, a pair of parentheses (), and a colon :. The function body is indented and contains the code to be executed when the function is called. \"\"\""
   ]
  },
  {
   "cell_type": "code",
   "execution_count": 44,
   "id": "431fd824-d88f-4149-8247-258e5f88400a",
   "metadata": {},
   "outputs": [],
   "source": [
    "# 3. Explain the difference between a function definition and a function call.\n",
    "\n",
    "\n",
    "\"\"\" Function Definition: The function definition specifies what the function does, its name, parameters (if any), and the code to be executed. It defines the structure and behavior of the function. It uses the def keyword in Python. \"\"\"\n",
    "\n",
    "def add_numbers(a, b):\n",
    "    sum = a + b\n",
    "    return sum\n",
    "\n",
    "\"\"\" Function Call: A function call is when you invoke the function to perform its specified task. It involves using the function name followed by parentheses () and passing the necessary arguments (if any). When a function is called, the program executes the code inside the function's body. \"\"\"\n",
    "\n",
    "result = add_numbers(3, 5)  # This calls the add_numbers function with arguments 3 and 5\n"
   ]
  },
  {
   "cell_type": "code",
   "execution_count": 45,
   "id": "930c183d-7d6e-4ff6-b016-09f0bf62170b",
   "metadata": {},
   "outputs": [
    {
     "name": "stdout",
     "output_type": "stream",
     "text": [
      "Sum: 8\n"
     ]
    }
   ],
   "source": [
    "# 4. Write a Python program that defines a function to calculate the sum of two numbers and then calls the function.\n",
    "\n",
    "\n",
    "def add_numbers(a, b):\n",
    "    sum = a + b\n",
    "    return sum\n",
    "\n",
    "# Function call\n",
    "result = add_numbers(3, 5)\n",
    "print(\"Sum:\", result)  # Output: Sum: 8\n"
   ]
  },
  {
   "cell_type": "markdown",
   "id": "c030b05f-821a-4f23-aff3-c92545901493",
   "metadata": {},
   "source": [
    "Explanaation:\n",
    "    the add_numbers function is defined to calculate the sum of two numbers. It is then called with arguments 3 and 5, and the result is printed."
   ]
  },
  {
   "cell_type": "markdown",
   "id": "77bdf9dc-87e6-4fab-9e6c-0375867ea627",
   "metadata": {},
   "source": [
    "# 5. What is a function signature, and what information does it typically include?\n",
    "\n",
    "\n",
    "A function signature in Python includes the function name, parameters, and their types (if specified), but not the return type. For example, the function signature of add_numbers(a, b) consists of the function name and its parameters (a, b).\n",
    "\n"
   ]
  },
  {
   "cell_type": "code",
   "execution_count": 46,
   "id": "1b99e5a7-2d4a-4300-951e-5edf0cd1cff6",
   "metadata": {},
   "outputs": [
    {
     "name": "stdout",
     "output_type": "stream",
     "text": [
      "Product: 15\n"
     ]
    }
   ],
   "source": [
    "# 6. Create a Python function that takes two arguments and returns their product.\n",
    "\n",
    "\n",
    "def multiply(a, b):\n",
    "    product = a * b\n",
    "    return product\n",
    "\n",
    "# Function call\n",
    "result = multiply(3, 5)\n",
    "print(\"Product:\", result)  # Output: Product: 15\n"
   ]
  },
  {
   "cell_type": "markdown",
   "id": "e3eb1a8c-c424-4894-93fa-c414fa8d7bf7",
   "metadata": {},
   "source": [
    "Explanation:\n",
    "    he multiply() function takes two arguments a and b and returns their product. The function is called with arguments 3 and 5, and the result is printed."
   ]
  },
  {
   "cell_type": "code",
   "execution_count": 47,
   "id": "614d2e47-b257-4e39-8386-8fad4ead66ca",
   "metadata": {},
   "outputs": [],
   "source": [
    "# Function Parameters and Arguments:\n"
   ]
  },
  {
   "cell_type": "code",
   "execution_count": 48,
   "id": "d81e6403-dcc0-4b64-8250-14e5507da226",
   "metadata": {},
   "outputs": [
    {
     "data": {
      "text/plain": [
       "' Formal Parameters: Formal parameters are the parameters listed in the function definition. They act as placeholders for the values that will be provided to the function during the function call. In the function def add(a, b):, a and b are formal parameters.\\n\\nActual Arguments: Actual arguments are the values passed to the function during the function call. They are the real values that the function operates on. In the function call add(3, 5), 3 and 5 are actual arguments. '"
      ]
     },
     "execution_count": 48,
     "metadata": {},
     "output_type": "execute_result"
    }
   ],
   "source": [
    "# 1. Explain the concepts of formal parameters and actual arguments in Python functions.\n",
    "\n",
    "\n",
    "\"\"\" Formal Parameters: Formal parameters are the parameters listed in the function definition. They act as placeholders for the values that will be provided to the function during the function call. In the function def add(a, b):, a and b are formal parameters.\n",
    "\n",
    "Actual Arguments: Actual arguments are the values passed to the function during the function call. They are the real values that the function operates on. In the function call add(3, 5), 3 and 5 are actual arguments. \"\"\""
   ]
  },
  {
   "cell_type": "code",
   "execution_count": 49,
   "id": "e1e2bdd2-e0e4-47a7-b6a9-e20384fb61fc",
   "metadata": {},
   "outputs": [
    {
     "name": "stdout",
     "output_type": "stream",
     "text": [
      "Hello, Guest!\n",
      "Hello, Alice!\n"
     ]
    }
   ],
   "source": [
    "# 2. Write a Python program that defines a function with default argument values.\n",
    "\n",
    "\n",
    "def greet(name=\"Guest\"):\n",
    "    print(\"Hello, \" + name + \"!\")\n",
    "    \n",
    "# Function calls\n",
    "greet()  # Output: Hello, Guest!\n",
    "greet(\"Alice\")  # Output: Hello, Alice!\n"
   ]
  },
  {
   "cell_type": "markdown",
   "id": "7bf4a424-24cd-4647-bcf6-115caba4ea6f",
   "metadata": {},
   "source": [
    "Explanation:\n",
    "In this example, the greet() function has a default parameter name set to \"Guest\". If no argument is provided during the function call, the default value is used. You can also provide a specific value to override the default, as shown in the second function call."
   ]
  },
  {
   "cell_type": "code",
   "execution_count": 50,
   "id": "b2e8aa56-57d7-4a72-977f-a1a596b41ce3",
   "metadata": {},
   "outputs": [
    {
     "name": "stdout",
     "output_type": "stream",
     "text": [
      "Hello, Alice! How are you?\n"
     ]
    }
   ],
   "source": [
    "# 3. How do you use keyword arguments in Python function calls? Provide an example.\n",
    "\n",
    "\n",
    "def greet(name, message):\n",
    "    print(\"Hello, \" + name + \"! \" + message)\n",
    "    \n",
    "# Function call with keyword arguments\n",
    "greet(name=\"Alice\", message=\"How are you?\")  # Output: Hello, Alice! How are you?\n"
   ]
  },
  {
   "cell_type": "markdown",
   "id": "41e81988-55c6-4a41-86fb-240cc4d7b3cf",
   "metadata": {},
   "source": [
    "Explanation:\n",
    "In this example, the function greet() is called with keyword arguments. When using keyword arguments, the order of the arguments doesn't matter, as each argument is explicitly identified by its parameter name."
   ]
  },
  {
   "cell_type": "code",
   "execution_count": 51,
   "id": "1cd89961-3f1e-4751-acfa-467b168339ba",
   "metadata": {},
   "outputs": [
    {
     "name": "stdout",
     "output_type": "stream",
     "text": [
      "Sum: 15\n"
     ]
    }
   ],
   "source": [
    "# 4. Create a Python function that accepts a variable number of arguments and calculates their sum.\n",
    "\n",
    "\n",
    "def sum_values(*args):\n",
    "    total = 0\n",
    "    for num in args:\n",
    "        total += num\n",
    "    return total\n",
    "\n",
    "# Function call with variable number of arguments\n",
    "result = sum_values(1, 2, 3, 4, 5)\n",
    "print(\"Sum:\", result)  # Output: Sum: 15\n"
   ]
  },
  {
   "cell_type": "markdown",
   "id": "bf58302d-b726-4b8c-9048-bd8e8130bd4b",
   "metadata": {},
   "source": [
    "Explanation:\n",
    "The *args syntax allows a function to accept a variable number of positional arguments. In the sum_values() function, *args allows you to pass any number of arguments, and the function calculates their sum."
   ]
  },
  {
   "cell_type": "code",
   "execution_count": 52,
   "id": "e7efb693-8f63-41b4-a16f-b88a89edcf24",
   "metadata": {},
   "outputs": [
    {
     "name": "stdout",
     "output_type": "stream",
     "text": [
      "Sum: 15\n"
     ]
    }
   ],
   "source": [
    "# 5. What is the purpose of the `*args` and `**kwargs` syntax in function parameter lists?\n",
    "\n",
    "\n",
    "def sum_values(*args):\n",
    "    total = 0\n",
    "    for num in args:\n",
    "        total += num\n",
    "    return total\n",
    "\n",
    "# Function call with variable number of arguments\n",
    "result = sum_values(1, 2, 3, 4, 5)\n",
    "print(\"Sum:\", result)  # Output: Sum: 15\n"
   ]
  },
  {
   "cell_type": "markdown",
   "id": "5be3bc50-6f1a-4a70-a5d5-9a626a3e4672",
   "metadata": {},
   "source": [
    "Explanation:\n",
    "The *args syntax allows a function to accept a variable number of positional arguments. In the sum_values() function, *args allows you to pass any number of arguments, and the function calculates their sum.\n",
    "\n",
    "5. Purpose of *args and **kwargs syntax in function parameter lists:\n",
    "*args: It allows a function to accept a variable number of positional arguments. *args collects extra positional arguments as a tuple.\n",
    "\n",
    "**kwargs: It allows a function to accept a variable number of keyword arguments. **kwargs collects extra keyword arguments as a dictionary."
   ]
  },
  {
   "cell_type": "code",
   "execution_count": 53,
   "id": "cc9d02ad-9e33-4697-9c3c-239bde90c599",
   "metadata": {},
   "outputs": [],
   "source": [
    "\n",
    "# Return Values and Scoping:\n"
   ]
  },
  {
   "cell_type": "code",
   "execution_count": 54,
   "id": "70863281-0cc7-41d6-bc4a-47a01bb5be8e",
   "metadata": {},
   "outputs": [
    {
     "data": {
      "text/plain": [
       "'  Role of the return Statement in Python Functions:\\nThe return statement in Python functions is used to exit the function and return a value back to the caller. Functions can perform computations and produce results, and these results can be utilized outside the function through the return statement. '"
      ]
     },
     "execution_count": 54,
     "metadata": {},
     "output_type": "execute_result"
    }
   ],
   "source": [
    "# 1. Describe the role of the `return` statement in Python functions and provide examples.\n",
    "\n",
    "\"\"\"  Role of the return Statement in Python Functions:\n",
    "The return statement in Python functions is used to exit the function and return a value back to the caller. Functions can perform computations and produce results, and these results can be utilized outside the function through the return statement. \"\"\"\n",
    "\n",
    "\n",
    "def add(a, b):\n",
    "    result = a + b\n",
    "    return result\n",
    "\n",
    "sum_result = add(3, 5)\n",
    "print(\"Sum:\", sum_result)  # Output: Sum: 8\n"
   ]
  },
  {
   "cell_type": "code",
   "execution_count": 56,
   "id": "51c66b03-978c-4bff-a33e-a7d960ddb608",
   "metadata": {},
   "outputs": [
    {
     "name": "stdout",
     "output_type": "stream",
     "text": [
      "Global Variable after modification: 15\n"
     ]
    }
   ],
   "source": [
    "# 2. Explain the concept of variable scope in Python, including local and global variables.\n",
    "\n",
    "\"\"\" Local Variables: Variables declared inside a function have local scope. They can only be accessed within that function. Once the function execution is over, the local variables are destroyed.\n",
    "\n",
    "Global Variables: Variables declared outside of any function or declared with the global keyword inside a function have global scope. They can be accessed from any part of the program, including inside functions. \"\"\"\n",
    "\n",
    "\n"
   ]
  },
  {
   "cell_type": "code",
   "execution_count": 57,
   "id": "6d5235fd-ac5e-4fe9-98a0-11cfa559da21",
   "metadata": {},
   "outputs": [
    {
     "name": "stdout",
     "output_type": "stream",
     "text": [
      "Global Variable after modification: 15\n"
     ]
    }
   ],
   "source": [
    "# 3. Write a Python program that demonstrates the use of global variables within functions\n",
    "\n",
    "global_var = 10\n",
    "\n",
    "def modify_global():\n",
    "    global global_var\n",
    "    global_var = global_var + 5\n",
    "\n",
    "modify_global()\n",
    "print(\"Global Variable after modification:\", global_var)  # Output: Global Variable after modification: 15\n",
    "\n"
   ]
  },
  {
   "cell_type": "markdown",
   "id": "8293f6bb-2aff-4f47-a94a-303c6bf4691c",
   "metadata": {},
   "source": [
    "Explanation:\n",
    "    global_var is a global variable. The modify_global() function uses the global keyword to access and modify the global variable. After calling the function, the global variable's value is changed."
   ]
  },
  {
   "cell_type": "code",
   "execution_count": 58,
   "id": "74a72c62-3a53-49f6-b855-efb7e14f67b5",
   "metadata": {},
   "outputs": [
    {
     "name": "stdout",
     "output_type": "stream",
     "text": [
      "Factorial of 5 is 120\n"
     ]
    }
   ],
   "source": [
    "# 4. Create a Python function that calculates the factorial of a number and returns it.\n",
    "\n",
    "\n",
    "def factorial(n):\n",
    "    if n == 0:\n",
    "        return 1\n",
    "    else:\n",
    "        return n * factorial(n - 1)\n",
    "\n",
    "# Function call\n",
    "num = 5\n",
    "factorial_result = factorial(num)\n",
    "print(\"Factorial of\", num, \"is\", factorial_result)  # Output: Factorial of 5 is 120\n"
   ]
  },
  {
   "cell_type": "markdown",
   "id": "1249ee90-e8ca-44ea-8199-496b8e9701ac",
   "metadata": {},
   "source": [
    "Explanation:\n",
    "    the factorial() function calculates the factorial of a number using recursion. The base case is when n is 0, the function returns 1. Otherwise, it multiplies n with the factorial of n - 1 and returns the result."
   ]
  },
  {
   "cell_type": "code",
   "execution_count": 59,
   "id": "7769f254-61bb-43ab-ac78-e5ab23088a9d",
   "metadata": {},
   "outputs": [
    {
     "data": {
      "text/plain": [
       "\" Variables defined outside a function are accessible within the function's scope. They can be read, but if you want to modify a global variable inside a function, you need to use the global keyword, as demonstrated in the global variable example above.\\n\\nIn summary, the return statement allows functions to produce results that can be utilized outside the function. Variable scope determines where a variable can be accessed or modified within a program, with local variables confined to the function where they are declared and global variables accessible throughout the program. The global keyword is used to modify global variables within functions. Variables defined outside a function can be accessed directly within the function's scope. \""
      ]
     },
     "execution_count": 59,
     "metadata": {},
     "output_type": "execute_result"
    }
   ],
   "source": [
    "# 5. How can you access variables defined outside a function from within the function?\n",
    "\n",
    "\n",
    "\"\"\" Variables defined outside a function are accessible within the function's scope. They can be read, but if you want to modify a global variable inside a function, you need to use the global keyword, as demonstrated in the global variable example above.\n",
    "\n",
    "In summary, the return statement allows functions to produce results that can be utilized outside the function. Variable scope determines where a variable can be accessed or modified within a program, with local variables confined to the function where they are declared and global variables accessible throughout the program. The global keyword is used to modify global variables within functions. Variables defined outside a function can be accessed directly within the function's scope. \"\"\""
   ]
  },
  {
   "cell_type": "code",
   "execution_count": 60,
   "id": "850dbba7-cb49-4b91-b29c-b198c1482628",
   "metadata": {},
   "outputs": [],
   "source": [
    "# Lambda Functions and Higher-Order Functions:\n"
   ]
  },
  {
   "cell_type": "code",
   "execution_count": 61,
   "id": "8e6e377c-7a39-4906-9450-62c949851995",
   "metadata": {},
   "outputs": [
    {
     "data": {
      "text/plain": [
       "'Lambda functions, also known as anonymous functions, are small, inline functions defined using the lambda keyword. They are typically used for short, simple operations where a full function definition seems unnecessary. Lambda functions can take any number of arguments but have only one expression.\\n\\nLambda functions are often used in scenarios where functions are needed temporarily for a short period and are not intended to be reused. They are commonly used in functions like map(), filter(), and sorted().'"
      ]
     },
     "execution_count": 61,
     "metadata": {},
     "output_type": "execute_result"
    }
   ],
   "source": [
    "# 1. What are lambda functions in Python, and when are they typically used?\n",
    "\n",
    "\n",
    "\"\"\"Lambda functions, also known as anonymous functions, are small, inline functions defined using the lambda keyword. They are typically used for short, simple operations where a full function definition seems unnecessary. Lambda functions can take any number of arguments but have only one expression.\n",
    "\n",
    "Lambda functions are often used in scenarios where functions are needed temporarily for a short period and are not intended to be reused. They are commonly used in functions like map(), filter(), and sorted().\"\"\""
   ]
  },
  {
   "cell_type": "code",
   "execution_count": 62,
   "id": "2afe2fdb-d937-47c6-a100-63a1beb608fe",
   "metadata": {},
   "outputs": [
    {
     "name": "stdout",
     "output_type": "stream",
     "text": [
      "Sorted list of tuples based on the second element:\n",
      "[(4, 1), (2, 2), (1, 3), (3, 4)]\n"
     ]
    }
   ],
   "source": [
    "# 2. Write a Python program that uses lambda functions to sort a list of tuples based on the second element.\n",
    "\n",
    "\n",
    "# List of tuples\n",
    "pairs = [(1, 3), (2, 2), (4, 1), (3, 4)]\n",
    "\n",
    "# Sort the list of tuples based on the second element using lambda function\n",
    "sorted_pairs = sorted(pairs, key=lambda x: x[1])\n",
    "\n",
    "print(\"Sorted list of tuples based on the second element:\")\n",
    "print(sorted_pairs)\n",
    "# Output: Sorted list of tuples based on the second element: [(4, 1), (2, 2), (1, 3), (3, 4)]\n"
   ]
  },
  {
   "cell_type": "markdown",
   "id": "1374b92a-917e-4224-bd84-c46df326158b",
   "metadata": {},
   "source": [
    "Explanation:\n",
    "    the sorted() function is used with a lambda function as the key argument to sort the list of tuples based on their second elements in ascending order."
   ]
  },
  {
   "cell_type": "code",
   "execution_count": 63,
   "id": "77dba093-6245-4371-9dca-b51269ec841e",
   "metadata": {},
   "outputs": [
    {
     "data": {
      "text/plain": [
       "' A higher-order function is a function that takes one or more functions as arguments or returns a function as its result. Higher-order functions enable functional programming paradigms, allowing functions to be manipulated and passed around like any other values. '"
      ]
     },
     "execution_count": 63,
     "metadata": {},
     "output_type": "execute_result"
    }
   ],
   "source": [
    "# 3. Explain the concept of higher-order functions in Python, and provide an example.\n",
    "\n",
    "\n",
    "\"\"\" A higher-order function is a function that takes one or more functions as arguments or returns a function as its result. Higher-order functions enable functional programming paradigms, allowing functions to be manipulated and passed around like any other values. \"\"\"\n",
    "\n"
   ]
  },
  {
   "cell_type": "code",
   "execution_count": 64,
   "id": "796af97d-7bc9-4c40-a82b-11c96b3db8c5",
   "metadata": {},
   "outputs": [
    {
     "name": "stdout",
     "output_type": "stream",
     "text": [
      "Doubled numbers: [2, 4, 6, 8]\n",
      "Squared numbers: [1, 4, 9, 16]\n"
     ]
    }
   ],
   "source": [
    "# 4. Create a Python function that takes a list of numbers and a function as arguments, applying the function to each element in the list.\n",
    "\n",
    "\n",
    "def apply_function_to_list(numbers, func):\n",
    "    \"\"\"\n",
    "    Applies the given function to each element in the list.\n",
    "    \n",
    "    Args:\n",
    "    numbers (list): List of numbers.\n",
    "    func (function): Function to be applied to each element.\n",
    "    \n",
    "    Returns:\n",
    "    list: List containing the results after applying the function to each element.\n",
    "    \"\"\"\n",
    "    result = []\n",
    "    for number in numbers:\n",
    "        result.append(func(number))\n",
    "    return result\n",
    "\n",
    "# Example usage:\n",
    "\n",
    "# Function to double a number\n",
    "def double(x):\n",
    "    return x * 2\n",
    "\n",
    "# Function to square a number\n",
    "def square(x):\n",
    "    return x ** 2\n",
    "\n",
    "numbers = [1, 2, 3, 4]\n",
    "\n",
    "# Applying the functions using the apply_function_to_list() function\n",
    "doubled_numbers = apply_function_to_list(numbers, double)\n",
    "squared_numbers = apply_function_to_list(numbers, square)\n",
    "\n",
    "print(\"Doubled numbers:\", doubled_numbers)  # Output: Doubled numbers: [2, 4, 6, 8]\n",
    "print(\"Squared numbers:\", squared_numbers)  # Output: Squared numbers: [1, 4, 9, 16]\n"
   ]
  },
  {
   "cell_type": "markdown",
   "id": "93037c98-8a15-41da-9d6d-a4209f39d2da",
   "metadata": {},
   "source": [
    "Explanation:\n",
    "    the apply_function_to_list() function takes a list of numbers (numbers) and a function (func) as arguments. It applies the given function to each element in the list and returns a new list containing the results. The double() and square() functions are used to demonstrate how different functions can be applied to the list of numbers.\n",
    "\n",
    "\n",
    "\n",
    "\n"
   ]
  },
  {
   "cell_type": "code",
   "execution_count": 65,
   "id": "c229f027-b93f-437d-b949-837aedbe7595",
   "metadata": {},
   "outputs": [],
   "source": [
    "# Built-in Functions:\n"
   ]
  },
  {
   "cell_type": "code",
   "execution_count": 66,
   "id": "e660db2a-db63-4274-a951-b2372ea2bc6b",
   "metadata": {},
   "outputs": [],
   "source": [
    "# 1. Describe the role of built-in functions like `len()`, `max()`, and `min()` in Python.\n",
    "\n",
    "\"\"\" len(): len() is used to find the length of a sequence, such as a string, list, tuple, or dictionary. It returns the number of elements in the sequence.\n",
    "\n",
    "Example: \"\"\"\n",
    "\n",
    "\n",
    "\n",
    "my_list = [1, 2, 3, 4, 5]\n",
    "length = len(my_list) \n",
    "\n",
    "\n",
    "\"\"\" max(): max() returns the largest item in an iterable or the largest of two or more arguments passed. \"\"\"\n",
    "\n",
    "\n",
    "numbers = [1, 5, 2, 8, 3]\n",
    "maximum = max(numbers)  \n",
    "\n",
    "\n",
    "\"\"\" min(): min() returns the smallest item in an iterable or the smallest of two or more arguments passed. \"\"\"\n",
    "\n",
    "numbers = [1, 5, 2, 8, 3]\n",
    "minimum = min(numbers) \n"
   ]
  },
  {
   "cell_type": "code",
   "execution_count": 67,
   "id": "9e12e6cc-f052-4246-982c-56ff5b56ecdb",
   "metadata": {},
   "outputs": [
    {
     "name": "stdout",
     "output_type": "stream",
     "text": [
      "Doubled numbers: [2, 4, 6, 8, 10]\n"
     ]
    }
   ],
   "source": [
    "# 2. Write a Python program that uses the `map()` function to apply a function to each element of a list.\n",
    "\n",
    "\n",
    "# Function to double a number\n",
    "def double(x):\n",
    "    return x * 2\n",
    "\n",
    "# List of numbers\n",
    "numbers = [1, 2, 3, 4, 5]\n",
    "\n",
    "# Using map() to apply the function to each element of the list\n",
    "doubled_numbers = list(map(double, numbers))\n",
    "\n",
    "print(\"Doubled numbers:\", doubled_numbers)  # Output: Doubled numbers: [2, 4, 6, 8, 10]\n"
   ]
  },
  {
   "cell_type": "markdown",
   "id": "43fc9aa2-33b1-46a9-85ac-b3c4fcb27156",
   "metadata": {},
   "source": [
    "Explanation:\n",
    "The map() function applies the specified function (double() in this case) to each item in the input list (numbers) and returns an iterator. The list() function is used to convert the iterator back to a list, which contains the results of applying the double() function to each element in the original list.\n",
    "\n"
   ]
  },
  {
   "cell_type": "code",
   "execution_count": 70,
   "id": "17f370d3-b9d1-497b-b69c-b1552ddae6a3",
   "metadata": {},
   "outputs": [
    {
     "name": "stdout",
     "output_type": "stream",
     "text": [
      "Even numbers: [2, 4, 6, 8]\n"
     ]
    }
   ],
   "source": [
    "# 3. How does the `filter()` function work in Python, and when would you use it?\n",
    "\n",
    "\n",
    "\"\"\" The filter() function constructs an iterator from elements of an iterable for which a specified function returns True. It filters the elements based on the provided function. \"\"\"\n",
    "\n",
    "\n",
    "# Function to filter even numbers\n",
    "def is_even(x):\n",
    "    return x % 2 == 0\n",
    "\n",
    "# List of numbers\n",
    "numbers = [1, 2, 3, 4, 5, 6, 7, 8, 9]\n",
    "\n",
    "# Using filter() to filter even numbers\n",
    "even_numbers = list(filter(is_even, numbers))\n",
    "\n",
    "print(\"Even numbers:\", even_numbers)  # Output: Even numbers: [2, 4, 6, 8]\n"
   ]
  },
  {
   "cell_type": "markdown",
   "id": "9efde256-051e-418b-af02-2aa3842a9ed7",
   "metadata": {},
   "source": [
    "Explanation:\n",
    "The filter() function applies the is_even() function to each item in the input list (numbers). It filters the elements based on the condition specified in the is_even() function (checking if the number is even). The resulting iterator is converted back to a list, containing the even numbers from the original list."
   ]
  },
  {
   "cell_type": "code",
   "execution_count": 69,
   "id": "abbbaa68-88f6-4aec-89c1-e7b7aa7fef14",
   "metadata": {},
   "outputs": [
    {
     "name": "stdout",
     "output_type": "stream",
     "text": [
      "Product of all numbers: 120\n"
     ]
    }
   ],
   "source": [
    "# 4. Create a Python program that uses the `reduce()` function to find the product of all elements in a list.\n",
    "\n",
    "\n",
    "from functools import reduce\n",
    "\n",
    "# Function to multiply two numbers\n",
    "def multiply(x, y):\n",
    "    return x * y\n",
    "\n",
    "# List of numbers\n",
    "numbers = [1, 2, 3, 4, 5]\n",
    "\n",
    "# Using reduce() to find the product of all elements in the list\n",
    "product = reduce(multiply, numbers)\n",
    "\n",
    "print(\"Product of all numbers:\", product)  # Output: Product of all numbers: 120\n"
   ]
  },
  {
   "cell_type": "markdown",
   "id": "a9d717c3-019d-4fbc-ae61-6fb58ad1174e",
   "metadata": {},
   "source": [
    "Explanation:\n",
    "The reduce() function applies the multiply() function cumulatively to the elements of the input list (numbers). It takes the first two elements, applies the multiply() function, then takes the result and the next element, and so on until the list is processed. The final result is the product of all elements in the list."
   ]
  },
  {
   "cell_type": "code",
   "execution_count": 71,
   "id": "46b09bf6-4a23-4359-a19a-8c57b48b9f55",
   "metadata": {},
   "outputs": [],
   "source": [
    "# Function Documentation and Best Practices:\n"
   ]
  },
  {
   "cell_type": "code",
   "execution_count": 72,
   "id": "1b5f9406-ee41-4bd2-9e23-7f5597930e19",
   "metadata": {},
   "outputs": [],
   "source": [
    "# 1. Explain the purpose of docstrings in Python functions and how to write them.\n",
    "\n",
    "\n",
    "\"\"\" Docstrings are used in Python to provide documentation for functions, classes, and modules. They serve as a form of inline documentation that explains what the function does, what parameters it accepts, what it returns, and any other relevant information. Properly documented code is essential for readability, maintainability, and collaboration, especially in larger projects where multiple developers might work together.\n",
    "\n",
    "How to Write Docstrings:\n",
    "Docstrings are placed within triple quotes (either single or double) immediately after the function, class, or module definition. There are different styles of docstrings, but one of the common styles is the Google-style docstring, which provides a brief description, details about parameters, return values, and optional sections for more detailed explanations.\n",
    "\n",
    " \"\"\"\n",
    "\n",
    "\n",
    "def example_function(param1, param2):\n",
    "    \"\"\"\n",
    "    This function does something based on the given parameters.\n",
    "\n",
    "    Args:\n",
    "        param1 (int): The first parameter.\n",
    "        param2 (str): The second parameter.\n",
    "\n",
    "    Returns:\n",
    "        bool: True if successful, False otherwise.\n",
    "    \"\"\"\n",
    "    # function implementation\n",
    "    pass\n"
   ]
  },
  {
   "cell_type": "code",
   "execution_count": 73,
   "id": "3412eedb-4531-4c29-b2ba-95bc140ceaf0",
   "metadata": {},
   "outputs": [
    {
     "data": {
      "text/plain": [
       "' Avoid Single-letter Names: Except for simple loop variables (e.g., i, j), avoid using single-letter names. Choose names that provide context.\\n\\nUse Clear and Meaningful Variable Names: Instead of using cryptic names like temp or data, choose names that reveal the purpose of the variable, like temp_storage or user_data.\\n\\n '"
      ]
     },
     "execution_count": 73,
     "metadata": {},
     "output_type": "execute_result"
    }
   ],
   "source": [
    "# 2. Describe some best practices for naming functions and variables in Python, including naming conventions and guidelines.\n",
    "\n",
    "\n",
    "\"\"\" Naming Conventions:\n",
    "Use Descriptive Names: Choose names that describe the variable or function purpose clearly. For example, instead of x, use user_age to represent a user's age.\n",
    "\n",
    "Function Names: Use lowercase words separated by underscores (snake_case) for function names. Choose descriptive names that indicate the action performed by the function. \"\"\"\n",
    "\n",
    "\n",
    "def calculate_total_amount():\n",
    "    # function implementation\n",
    "    pass\n",
    "\n",
    "\n",
    "\"\"\" Variable Names: Use lowercase words separated by underscores (snake_case) for variable names. Use singular names for individual objects and plural names for collections. \"\"\"\n",
    "\n",
    "\n",
    "user_name = \"John\"\n",
    "student_names = [\"Alice\", \"Bob\", \"Charlie\"]\n",
    "\n",
    "\n",
    "\"\"\" Constants: Use uppercase letters with underscores separating words (UPPER_CASE_WITH_UNDERSCORES) for constant variables. \"\"\"\n",
    "\n",
    "\n",
    "PI = 3.14159\n",
    "MAX_SIZE = 1000\n",
    "\n",
    "\n",
    "\"\"\" Guidelines:\n",
    "Be Consistent: Follow the naming conventions consistently throughout your codebase to maintain readability.\n",
    "\n",
    "Avoid Ambiguous Names: Choose names that are not easily confused. For example, avoid using l (lowercase L) as a variable name, as it can be mistaken for 1 (one).\n",
    "\n",
    "Use Verb-Noun Pairs for Functions: Function names should usually be descriptive verbs followed by nouns, indicating the action performed and the object affected.  \"\"\"\n",
    "\n",
    "\n",
    "def calculate_total_amount():\n",
    "    # function implementation\n",
    "    pass\n",
    "\n",
    "\n",
    "\n",
    "\"\"\" Avoid Single-letter Names: Except for simple loop variables (e.g., i, j), avoid using single-letter names. Choose names that provide context.\n",
    "\n",
    "Use Clear and Meaningful Variable Names: Instead of using cryptic names like temp or data, choose names that reveal the purpose of the variable, like temp_storage or user_data.\n",
    "\n",
    " \"\"\""
   ]
  },
  {
   "cell_type": "code",
   "execution_count": null,
   "id": "75c33e7b-5a72-4d1e-95e4-3446674e2b63",
   "metadata": {},
   "outputs": [],
   "source": []
  }
 ],
 "metadata": {
  "kernelspec": {
   "display_name": "Python 3 (ipykernel)",
   "language": "python",
   "name": "python3"
  },
  "language_info": {
   "codemirror_mode": {
    "name": "ipython",
    "version": 3
   },
   "file_extension": ".py",
   "mimetype": "text/x-python",
   "name": "python",
   "nbconvert_exporter": "python",
   "pygments_lexer": "ipython3",
   "version": "3.10.12"
  }
 },
 "nbformat": 4,
 "nbformat_minor": 5
}
